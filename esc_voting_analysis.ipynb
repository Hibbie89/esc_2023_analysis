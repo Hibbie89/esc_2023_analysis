{
 "cells": [
  {
   "attachments": {},
   "cell_type": "markdown",
   "metadata": {},
   "source": [
    "### Analysis of Liverpool 2023 Voting\n",
    "This analysis assumes different voting schemes, which all have in common that all countries apart from the last get points. This scheme would work for 25 participants, too, as then the last act would get 1 point instead of 0.\n",
    "\n",
    "First case assumes that the points from 0 - 26 are distributed evenly, while the second scheme assumes that the second best gets 26 and the best 28 points.\n",
    "\n",
    "The data is scraped from eurovision.tv for all countries"
   ]
  },
  {
   "cell_type": "code",
   "execution_count": 1,
   "metadata": {},
   "outputs": [],
   "source": [
    "import requests\n",
    "from bs4 import BeautifulSoup\n",
    "import pandas as pd\n",
    "import numpy as np\n",
    "import matplotlib.pyplot as plt\n",
    "from scipy.optimize import curve_fit\n",
    "from rich import pretty"
   ]
  },
  {
   "cell_type": "code",
   "execution_count": 2,
   "metadata": {},
   "outputs": [],
   "source": [
    "base_path = 'https://eurovision.tv/event/liverpool-2023/grand-final/results/{0}'\n",
    "header = {\"User-Agent\": \"Mozilla/5.0 (Windows NT 10.0; Win64; x64)\"}\n",
    "# countries = ('albania', 'armenia', 'australia', 'austria', 'belgium', 'croatia', 'cyprus', 'czechia', 'estonia', 'finland', 'france', 'germany', 'israel', 'italy', 'lithuania', 'moldova', 'norway', 'poland', 'portugal', 'serbia', 'slovenia', 'spain', 'sweden', 'switzerland', 'ukraine', 'united kingdom')\n",
    "voting_type = ('juryA', 'juryB', 'juryC', 'juryD', 'juryE')\n",
    "load_from_internet = True"
   ]
  },
  {
   "attachments": {},
   "cell_type": "markdown",
   "metadata": {},
   "source": [
    "Reading out the names of the voting countries from the list of countries entry"
   ]
  },
  {
   "cell_type": "code",
   "execution_count": 3,
   "metadata": {},
   "outputs": [],
   "source": [
    "\n",
    "respones_for_countries = requests.get(base_path.format('albania'), headers=header)\n",
    "countries_soup = BeautifulSoup(respones_for_countries.text, 'html.parser')\n"
   ]
  },
  {
   "cell_type": "code",
   "execution_count": 4,
   "metadata": {},
   "outputs": [],
   "source": [
    "countries = []\n",
    "country_selection = countries_soup.find('select', class_='form-select')\n",
    "for con in country_selection.children:\n",
    "    countries.append(con.text.lower().replace(' ', '-'))"
   ]
  },
  {
   "attachments": {},
   "cell_type": "markdown",
   "metadata": {},
   "source": [
    "First, lets create the final data structure to be populated. The data structure contains a line for each country, and the columns are the origins of the points.\n",
    "The origins are named by the following scheme: '<country>_tele', '<country>_juryA', etc"
   ]
  },
  {
   "cell_type": "code",
   "execution_count": 5,
   "metadata": {},
   "outputs": [],
   "source": [
    "columns_jury = []\n",
    "columns_jury_final = []\n",
    "columns_tele = []\n",
    "for voted_to_coun in countries:\n",
    "    for vote in voting_type:\n",
    "        columns_jury.append(f'{voted_to_coun}_{vote}')\n",
    "    columns_tele.append(f'{voted_to_coun}_tele')\n",
    "    columns_jury_final.append(f'{voted_to_coun}_jury')\n",
    "        \n",
    "votes_jury = pd.DataFrame(index=countries, columns=columns_jury)\n",
    "votes_tele = pd.DataFrame(index=countries, columns=columns_tele)"
   ]
  },
  {
   "cell_type": "code",
   "execution_count": 6,
   "metadata": {},
   "outputs": [
    {
     "name": "stdout",
     "output_type": "stream",
     "text": [
      "https://eurovision.tv/event/liverpool-2023/grand-final/results/albania\n",
      "https://eurovision.tv/event/liverpool-2023/grand-final/results/armenia\n",
      "https://eurovision.tv/event/liverpool-2023/grand-final/results/australia\n",
      "https://eurovision.tv/event/liverpool-2023/grand-final/results/austria\n",
      "https://eurovision.tv/event/liverpool-2023/grand-final/results/azerbaijan\n",
      "https://eurovision.tv/event/liverpool-2023/grand-final/results/belgium\n",
      "https://eurovision.tv/event/liverpool-2023/grand-final/results/croatia\n",
      "https://eurovision.tv/event/liverpool-2023/grand-final/results/cyprus\n",
      "https://eurovision.tv/event/liverpool-2023/grand-final/results/czechia\n",
      "https://eurovision.tv/event/liverpool-2023/grand-final/results/denmark\n",
      "https://eurovision.tv/event/liverpool-2023/grand-final/results/estonia\n",
      "https://eurovision.tv/event/liverpool-2023/grand-final/results/finland\n",
      "https://eurovision.tv/event/liverpool-2023/grand-final/results/france\n",
      "https://eurovision.tv/event/liverpool-2023/grand-final/results/georgia\n",
      "https://eurovision.tv/event/liverpool-2023/grand-final/results/germany\n",
      "https://eurovision.tv/event/liverpool-2023/grand-final/results/greece\n",
      "https://eurovision.tv/event/liverpool-2023/grand-final/results/iceland\n",
      "https://eurovision.tv/event/liverpool-2023/grand-final/results/ireland\n",
      "https://eurovision.tv/event/liverpool-2023/grand-final/results/israel\n",
      "https://eurovision.tv/event/liverpool-2023/grand-final/results/italy\n",
      "https://eurovision.tv/event/liverpool-2023/grand-final/results/latvia\n",
      "https://eurovision.tv/event/liverpool-2023/grand-final/results/lithuania\n",
      "https://eurovision.tv/event/liverpool-2023/grand-final/results/malta\n",
      "https://eurovision.tv/event/liverpool-2023/grand-final/results/moldova\n",
      "https://eurovision.tv/event/liverpool-2023/grand-final/results/netherlands\n",
      "https://eurovision.tv/event/liverpool-2023/grand-final/results/norway\n",
      "https://eurovision.tv/event/liverpool-2023/grand-final/results/poland\n",
      "https://eurovision.tv/event/liverpool-2023/grand-final/results/portugal\n",
      "https://eurovision.tv/event/liverpool-2023/grand-final/results/romania\n",
      "https://eurovision.tv/event/liverpool-2023/grand-final/results/san-marino\n",
      "https://eurovision.tv/event/liverpool-2023/grand-final/results/serbia\n",
      "https://eurovision.tv/event/liverpool-2023/grand-final/results/slovenia\n",
      "https://eurovision.tv/event/liverpool-2023/grand-final/results/spain\n",
      "https://eurovision.tv/event/liverpool-2023/grand-final/results/sweden\n",
      "https://eurovision.tv/event/liverpool-2023/grand-final/results/switzerland\n",
      "https://eurovision.tv/event/liverpool-2023/grand-final/results/ukraine\n",
      "https://eurovision.tv/event/liverpool-2023/grand-final/results/united-kingdom\n"
     ]
    }
   ],
   "source": [
    "if load_from_internet:\n",
    "    for voted_to_coun in countries:\n",
    "        voted_to_coun = voted_to_coun.replace(' ', '-')\n",
    "        print(base_path.format(voted_to_coun))\n",
    "        response = requests.get(base_path.format(voted_to_coun), headers=header)\n",
    "        soup = BeautifulSoup(response.text, 'html.parser')\n",
    "        detailed_voting = soup.find('table').find('tbody')\n",
    "        rows = detailed_voting.findAll('tr')\n",
    "        for row in rows:\n",
    "            cols = row.findAll('td')\n",
    "            origin = cols[0].text.strip().lower().replace(' ', '-')\n",
    "            # Add jury votes\n",
    "            votes_jury.loc[origin, f'{voted_to_coun}_juryA'] = int(cols[2].text.strip())\n",
    "            votes_jury.loc[origin, f'{voted_to_coun}_juryB'] = int(cols[3].text.strip())\n",
    "            votes_jury.loc[origin, f'{voted_to_coun}_juryC'] = int(cols[4].text.strip())\n",
    "            votes_jury.loc[origin, f'{voted_to_coun}_juryD'] = int(cols[5].text.strip())\n",
    "            if len(cols) == 9:\n",
    "                votes_jury.loc[origin, f'{voted_to_coun}_juryE'] = int(cols[6].text.strip())\n",
    "            # Add televotes (more complicated due to structure)\n",
    "            votes_tele.loc[origin, f'{voted_to_coun}_tele'] = int(cols[-1].text.split(' ')[-1].strip('stndrh'))\n",
    "else:\n",
    "    votes_jury = pd.read_csv(r'voting_results_table_jury.csv')\n",
    "    votes_tele = pd.read_csv(r'voting_results_table_tele.csv')"
   ]
  },
  {
   "cell_type": "code",
   "execution_count": 7,
   "metadata": {},
   "outputs": [],
   "source": [
    "# save data frame to file to not depend on internet connection\n",
    "votes_jury.to_csv(r'voting_results_table_jury.csv')\n",
    "votes_tele.to_csv(r'voting_results_table_tele.csv')"
   ]
  },
  {
   "attachments": {},
   "cell_type": "markdown",
   "metadata": {},
   "source": [
    "### Implement voting schema\n",
    "\n",
    "#### First trying to reproduce the official voting scheme\n",
    "\n",
    "This is not a piece of cake, as the voting system is maximally intransparent... See e.g. https://thateurovisionsite.com/2023/04/12/eurovision-2023-voting-rules/\n",
    "\n",
    "Each jury member ranks from 1-25, this is converted to points from 12 to 1 decreasing exponentially (see https://de.wikipedia.org/wiki/Eurovision_Song_Contest#Neuregelung_ab_2018). These points from all judges are combined and then sorted again, and the first 10 get the usual points."
   ]
  },
  {
   "attachments": {},
   "cell_type": "markdown",
   "metadata": {},
   "source": [
    "First, create exponential points from 12 to 1. The function for exponential decay without offset is\n",
    "\n",
    "$y = A * exp(K * x)$"
   ]
  },
  {
   "cell_type": "code",
   "execution_count": 8,
   "metadata": {},
   "outputs": [],
   "source": [
    "def exp_decay(x, A, K):\n",
    "    return A * np.exp(K * x)"
   ]
  },
  {
   "attachments": {},
   "cell_type": "markdown",
   "metadata": {},
   "source": [
    "Then use scipy.optimize.curve_fit to find the exponential parameters to make the function pass through 12 and 1"
   ]
  },
  {
   "cell_type": "code",
   "execution_count": 14,
   "metadata": {},
   "outputs": [
    {
     "name": "stderr",
     "output_type": "stream",
     "text": [
      "c:\\Users\\Jakob\\.virtualenvs\\tests-iEd5lnFy\\lib\\site-packages\\scipy\\optimize\\_minpack_py.py:906: OptimizeWarning: Covariance of the parameters could not be estimated\n",
      "  warnings.warn('Covariance of the parameters could not be estimated',\n"
     ]
    }
   ],
   "source": [
    "params, cov = curve_fit(exp_decay, [1, 25], [12, 1])"
   ]
  },
  {
   "attachments": {},
   "cell_type": "markdown",
   "metadata": {},
   "source": [
    "Calculate the jury points based on the found exponential function and make sure the boundary conditions fit"
   ]
  },
  {
   "cell_type": "code",
   "execution_count": 17,
   "metadata": {},
   "outputs": [],
   "source": [
    "x = np.arange(1, 26)\n",
    "jury_points = exp_decay(x, *params)\n",
    "\n",
    "assert np.abs(jury_points[0] - 12.0) < 1e-6\n",
    "assert np.abs(jury_points[-1] - 1.0) < 1e-6\n",
    "\n",
    "jury_points = np.append(jury_points, 0)"
   ]
  },
  {
   "attachments": {},
   "cell_type": "markdown",
   "metadata": {},
   "source": [
    "Create ESC ranking points from 12 to 1 for the first 10 places"
   ]
  },
  {
   "cell_type": "code",
   "execution_count": 30,
   "metadata": {},
   "outputs": [],
   "source": [
    "esc_points = np.zeros((27,))\n",
    "esc_points[0:10] = np.array([12, 10, 8, 7, 6, 5, 4, 3, 2, 1])\n",
    "ranking = np.array([i + 1 for i in range(27)])"
   ]
  },
  {
   "attachments": {},
   "cell_type": "markdown",
   "metadata": {},
   "source": [
    "Replace the jury ranking by the jury points"
   ]
  },
  {
   "cell_type": "code",
   "execution_count": 32,
   "metadata": {},
   "outputs": [],
   "source": [
    "votes_jury_points_individual = votes_jury.replace(ranking[:-1], jury_points)"
   ]
  },
  {
   "attachments": {},
   "cell_type": "markdown",
   "metadata": {},
   "source": [
    "Sum all jury points from each country for each country together"
   ]
  },
  {
   "cell_type": "code",
   "execution_count": 33,
   "metadata": {},
   "outputs": [],
   "source": [
    "votes_jury_combined = pd.DataFrame(index=countries, columns=columns_jury_final)"
   ]
  },
  {
   "cell_type": "code",
   "execution_count": 34,
   "metadata": {},
   "outputs": [],
   "source": [
    "for voting_coun in countries:\n",
    "    for voted_to_coun in countries:\n",
    "        votes_jury_combined.loc[voting_coun, f'{voted_to_coun}_jury'] = votes_jury_points_individual.loc[voting_coun, (col for col in votes_jury if col.startswith(f'{voted_to_coun}'))].sum()"
   ]
  },
  {
   "attachments": {},
   "cell_type": "markdown",
   "metadata": {},
   "source": [
    "Convert the placing into a placing from 1st to last and replace with esc points from 12 to 0"
   ]
  },
  {
   "cell_type": "code",
   "execution_count": 35,
   "metadata": {},
   "outputs": [],
   "source": [
    "votes_jury_ranking = pd.DataFrame(0, index=countries, columns=columns_jury_final)\n",
    "\n",
    "for voting_coun in countries:\n",
    "    votes_jury_ranking.loc[:, f'{voting_coun}_jury'] = votes_jury_combined.loc[:, f'{voting_coun}_jury'].rank(ascending=False, method='min').replace(ranking, esc_points)"
   ]
  },
  {
   "attachments": {},
   "cell_type": "markdown",
   "metadata": {},
   "source": [
    "Add all jury points for each country together"
   ]
  },
  {
   "cell_type": "code",
   "execution_count": 38,
   "metadata": {},
   "outputs": [],
   "source": [
    "jury_votes_total = votes_jury_ranking.sum(axis=1)"
   ]
  },
  {
   "attachments": {},
   "cell_type": "markdown",
   "metadata": {},
   "source": [
    "Print the results for the jury votes calculated to my best knowledge as stated by the EBU"
   ]
  },
  {
   "cell_type": "code",
   "execution_count": 40,
   "metadata": {},
   "outputs": [
    {
     "data": {
      "text/html": [
       "<pre style=\"white-space:pre;overflow-x:auto;line-height:normal;font-family:Menlo,'DejaVu Sans Mono',consolas,'Courier New',monospace\">sweden            <span style=\"color: #008080; text-decoration-color: #008080; font-weight: bold\">338.0</span>\n",
       "israel            <span style=\"color: #008080; text-decoration-color: #008080; font-weight: bold\">178.0</span>\n",
       "italy             <span style=\"color: #008080; text-decoration-color: #008080; font-weight: bold\">178.0</span>\n",
       "estonia           <span style=\"color: #008080; text-decoration-color: #008080; font-weight: bold\">143.0</span>\n",
       "finland           <span style=\"color: #008080; text-decoration-color: #008080; font-weight: bold\">137.0</span>\n",
       "belgium           <span style=\"color: #008080; text-decoration-color: #008080; font-weight: bold\">127.0</span>\n",
       "australia         <span style=\"color: #008080; text-decoration-color: #008080; font-weight: bold\">123.0</span>\n",
       "austria           <span style=\"color: #008080; text-decoration-color: #008080; font-weight: bold\">114.0</span>\n",
       "czechia            <span style=\"color: #008080; text-decoration-color: #008080; font-weight: bold\">94.0</span>\n",
       "spain              <span style=\"color: #008080; text-decoration-color: #008080; font-weight: bold\">90.0</span>\n",
       "lithuania          <span style=\"color: #008080; text-decoration-color: #008080; font-weight: bold\">85.0</span>\n",
       "armenia            <span style=\"color: #008080; text-decoration-color: #008080; font-weight: bold\">76.0</span>\n",
       "cyprus             <span style=\"color: #008080; text-decoration-color: #008080; font-weight: bold\">66.0</span>\n",
       "switzerland        <span style=\"color: #008080; text-decoration-color: #008080; font-weight: bold\">60.0</span>\n",
       "norway             <span style=\"color: #008080; text-decoration-color: #008080; font-weight: bold\">58.0</span>\n",
       "ukraine            <span style=\"color: #008080; text-decoration-color: #008080; font-weight: bold\">55.0</span>\n",
       "france             <span style=\"color: #008080; text-decoration-color: #008080; font-weight: bold\">51.0</span>\n",
       "portugal           <span style=\"color: #008080; text-decoration-color: #008080; font-weight: bold\">41.0</span>\n",
       "slovenia           <span style=\"color: #008080; text-decoration-color: #008080; font-weight: bold\">33.0</span>\n",
       "moldova            <span style=\"color: #008080; text-decoration-color: #008080; font-weight: bold\">24.0</span>\n",
       "albania            <span style=\"color: #008080; text-decoration-color: #008080; font-weight: bold\">19.0</span>\n",
       "united-kingdom     <span style=\"color: #008080; text-decoration-color: #008080; font-weight: bold\">19.0</span>\n",
       "serbia             <span style=\"color: #008080; text-decoration-color: #008080; font-weight: bold\">12.0</span>\n",
       "poland             <span style=\"color: #008080; text-decoration-color: #008080; font-weight: bold\">11.0</span>\n",
       "croatia            <span style=\"color: #008080; text-decoration-color: #008080; font-weight: bold\">11.0</span>\n",
       "germany             <span style=\"color: #008080; text-decoration-color: #008080; font-weight: bold\">3.0</span>\n",
       "latvia              <span style=\"color: #008080; text-decoration-color: #008080; font-weight: bold\">0.0</span>\n",
       "malta               <span style=\"color: #008080; text-decoration-color: #008080; font-weight: bold\">0.0</span>\n",
       "ireland             <span style=\"color: #008080; text-decoration-color: #008080; font-weight: bold\">0.0</span>\n",
       "netherlands         <span style=\"color: #008080; text-decoration-color: #008080; font-weight: bold\">0.0</span>\n",
       "iceland             <span style=\"color: #008080; text-decoration-color: #008080; font-weight: bold\">0.0</span>\n",
       "greece              <span style=\"color: #008080; text-decoration-color: #008080; font-weight: bold\">0.0</span>\n",
       "romania             <span style=\"color: #008080; text-decoration-color: #008080; font-weight: bold\">0.0</span>\n",
       "san-marino          <span style=\"color: #008080; text-decoration-color: #008080; font-weight: bold\">0.0</span>\n",
       "georgia             <span style=\"color: #008080; text-decoration-color: #008080; font-weight: bold\">0.0</span>\n",
       "denmark             <span style=\"color: #008080; text-decoration-color: #008080; font-weight: bold\">0.0</span>\n",
       "azerbaijan          <span style=\"color: #008080; text-decoration-color: #008080; font-weight: bold\">0.0</span>\n",
       "dtype: float64\n",
       "</pre>\n"
      ],
      "text/plain": [
       "sweden            \u001b[1;36m338.0\u001b[0m\n",
       "israel            \u001b[1;36m178.0\u001b[0m\n",
       "italy             \u001b[1;36m178.0\u001b[0m\n",
       "estonia           \u001b[1;36m143.0\u001b[0m\n",
       "finland           \u001b[1;36m137.0\u001b[0m\n",
       "belgium           \u001b[1;36m127.0\u001b[0m\n",
       "australia         \u001b[1;36m123.0\u001b[0m\n",
       "austria           \u001b[1;36m114.0\u001b[0m\n",
       "czechia            \u001b[1;36m94.0\u001b[0m\n",
       "spain              \u001b[1;36m90.0\u001b[0m\n",
       "lithuania          \u001b[1;36m85.0\u001b[0m\n",
       "armenia            \u001b[1;36m76.0\u001b[0m\n",
       "cyprus             \u001b[1;36m66.0\u001b[0m\n",
       "switzerland        \u001b[1;36m60.0\u001b[0m\n",
       "norway             \u001b[1;36m58.0\u001b[0m\n",
       "ukraine            \u001b[1;36m55.0\u001b[0m\n",
       "france             \u001b[1;36m51.0\u001b[0m\n",
       "portugal           \u001b[1;36m41.0\u001b[0m\n",
       "slovenia           \u001b[1;36m33.0\u001b[0m\n",
       "moldova            \u001b[1;36m24.0\u001b[0m\n",
       "albania            \u001b[1;36m19.0\u001b[0m\n",
       "united-kingdom     \u001b[1;36m19.0\u001b[0m\n",
       "serbia             \u001b[1;36m12.0\u001b[0m\n",
       "poland             \u001b[1;36m11.0\u001b[0m\n",
       "croatia            \u001b[1;36m11.0\u001b[0m\n",
       "germany             \u001b[1;36m3.0\u001b[0m\n",
       "latvia              \u001b[1;36m0.0\u001b[0m\n",
       "malta               \u001b[1;36m0.0\u001b[0m\n",
       "ireland             \u001b[1;36m0.0\u001b[0m\n",
       "netherlands         \u001b[1;36m0.0\u001b[0m\n",
       "iceland             \u001b[1;36m0.0\u001b[0m\n",
       "greece              \u001b[1;36m0.0\u001b[0m\n",
       "romania             \u001b[1;36m0.0\u001b[0m\n",
       "san-marino          \u001b[1;36m0.0\u001b[0m\n",
       "georgia             \u001b[1;36m0.0\u001b[0m\n",
       "denmark             \u001b[1;36m0.0\u001b[0m\n",
       "azerbaijan          \u001b[1;36m0.0\u001b[0m\n",
       "dtype: float64\n"
      ]
     },
     "metadata": {},
     "output_type": "display_data"
    }
   ],
   "source": [
    "pretty.pprint(jury_votes_total.sort_values(ascending=False))"
   ]
  },
  {
   "attachments": {},
   "cell_type": "markdown",
   "metadata": {},
   "source": [
    "Conclusion: There are some differences, but I am not sure, why. Checked that all steps do what they are supposed to do. I did not check yet that all jury votes for all countries match the real jury votes (i.e. who gets how many points), apart from Albania, where I noticed that they switched Estonia and Armenia in places...\n",
    "\n",
    "Continuing with the televote"
   ]
  },
  {
   "cell_type": "code",
   "execution_count": 41,
   "metadata": {},
   "outputs": [],
   "source": [
    "tele_votes_total = votes_tele.replace(ranking, esc_points).sum(axis=1)"
   ]
  },
  {
   "cell_type": "code",
   "execution_count": 42,
   "metadata": {},
   "outputs": [
    {
     "data": {
      "text/html": [
       "<pre style=\"white-space:pre;overflow-x:auto;line-height:normal;font-family:Menlo,'DejaVu Sans Mono',consolas,'Courier New',monospace\">finland           <span style=\"color: #008080; text-decoration-color: #008080; font-weight: bold\">364.0</span>\n",
       "sweden            <span style=\"color: #008080; text-decoration-color: #008080; font-weight: bold\">233.0</span>\n",
       "norway            <span style=\"color: #008080; text-decoration-color: #008080; font-weight: bold\">208.0</span>\n",
       "ukraine           <span style=\"color: #008080; text-decoration-color: #008080; font-weight: bold\">187.0</span>\n",
       "israel            <span style=\"color: #008080; text-decoration-color: #008080; font-weight: bold\">185.0</span>\n",
       "italy             <span style=\"color: #008080; text-decoration-color: #008080; font-weight: bold\">173.0</span>\n",
       "croatia           <span style=\"color: #008080; text-decoration-color: #008080; font-weight: bold\">107.0</span>\n",
       "moldova            <span style=\"color: #008080; text-decoration-color: #008080; font-weight: bold\">76.0</span>\n",
       "poland             <span style=\"color: #008080; text-decoration-color: #008080; font-weight: bold\">74.0</span>\n",
       "albania            <span style=\"color: #008080; text-decoration-color: #008080; font-weight: bold\">59.0</span>\n",
       "cyprus             <span style=\"color: #008080; text-decoration-color: #008080; font-weight: bold\">58.0</span>\n",
       "armenia            <span style=\"color: #008080; text-decoration-color: #008080; font-weight: bold\">53.0</span>\n",
       "belgium            <span style=\"color: #008080; text-decoration-color: #008080; font-weight: bold\">49.0</span>\n",
       "france             <span style=\"color: #008080; text-decoration-color: #008080; font-weight: bold\">46.0</span>\n",
       "lithuania          <span style=\"color: #008080; text-decoration-color: #008080; font-weight: bold\">46.0</span>\n",
       "slovenia           <span style=\"color: #008080; text-decoration-color: #008080; font-weight: bold\">45.0</span>\n",
       "czechia            <span style=\"color: #008080; text-decoration-color: #008080; font-weight: bold\">35.0</span>\n",
       "switzerland        <span style=\"color: #008080; text-decoration-color: #008080; font-weight: bold\">31.0</span>\n",
       "estonia            <span style=\"color: #008080; text-decoration-color: #008080; font-weight: bold\">22.0</span>\n",
       "australia          <span style=\"color: #008080; text-decoration-color: #008080; font-weight: bold\">18.0</span>\n",
       "austria            <span style=\"color: #008080; text-decoration-color: #008080; font-weight: bold\">16.0</span>\n",
       "serbia             <span style=\"color: #008080; text-decoration-color: #008080; font-weight: bold\">16.0</span>\n",
       "portugal           <span style=\"color: #008080; text-decoration-color: #008080; font-weight: bold\">16.0</span>\n",
       "germany            <span style=\"color: #008080; text-decoration-color: #008080; font-weight: bold\">15.0</span>\n",
       "united-kingdom      <span style=\"color: #008080; text-decoration-color: #008080; font-weight: bold\">9.0</span>\n",
       "spain               <span style=\"color: #008080; text-decoration-color: #008080; font-weight: bold\">5.0</span>\n",
       "san-marino          <span style=\"color: #008080; text-decoration-color: #008080; font-weight: bold\">0.0</span>\n",
       "georgia             <span style=\"color: #008080; text-decoration-color: #008080; font-weight: bold\">0.0</span>\n",
       "ireland             <span style=\"color: #008080; text-decoration-color: #008080; font-weight: bold\">0.0</span>\n",
       "latvia              <span style=\"color: #008080; text-decoration-color: #008080; font-weight: bold\">0.0</span>\n",
       "azerbaijan          <span style=\"color: #008080; text-decoration-color: #008080; font-weight: bold\">0.0</span>\n",
       "greece              <span style=\"color: #008080; text-decoration-color: #008080; font-weight: bold\">0.0</span>\n",
       "netherlands         <span style=\"color: #008080; text-decoration-color: #008080; font-weight: bold\">0.0</span>\n",
       "denmark             <span style=\"color: #008080; text-decoration-color: #008080; font-weight: bold\">0.0</span>\n",
       "malta               <span style=\"color: #008080; text-decoration-color: #008080; font-weight: bold\">0.0</span>\n",
       "iceland             <span style=\"color: #008080; text-decoration-color: #008080; font-weight: bold\">0.0</span>\n",
       "romania             <span style=\"color: #008080; text-decoration-color: #008080; font-weight: bold\">0.0</span>\n",
       "dtype: float64\n",
       "</pre>\n"
      ],
      "text/plain": [
       "finland           \u001b[1;36m364.0\u001b[0m\n",
       "sweden            \u001b[1;36m233.0\u001b[0m\n",
       "norway            \u001b[1;36m208.0\u001b[0m\n",
       "ukraine           \u001b[1;36m187.0\u001b[0m\n",
       "israel            \u001b[1;36m185.0\u001b[0m\n",
       "italy             \u001b[1;36m173.0\u001b[0m\n",
       "croatia           \u001b[1;36m107.0\u001b[0m\n",
       "moldova            \u001b[1;36m76.0\u001b[0m\n",
       "poland             \u001b[1;36m74.0\u001b[0m\n",
       "albania            \u001b[1;36m59.0\u001b[0m\n",
       "cyprus             \u001b[1;36m58.0\u001b[0m\n",
       "armenia            \u001b[1;36m53.0\u001b[0m\n",
       "belgium            \u001b[1;36m49.0\u001b[0m\n",
       "france             \u001b[1;36m46.0\u001b[0m\n",
       "lithuania          \u001b[1;36m46.0\u001b[0m\n",
       "slovenia           \u001b[1;36m45.0\u001b[0m\n",
       "czechia            \u001b[1;36m35.0\u001b[0m\n",
       "switzerland        \u001b[1;36m31.0\u001b[0m\n",
       "estonia            \u001b[1;36m22.0\u001b[0m\n",
       "australia          \u001b[1;36m18.0\u001b[0m\n",
       "austria            \u001b[1;36m16.0\u001b[0m\n",
       "serbia             \u001b[1;36m16.0\u001b[0m\n",
       "portugal           \u001b[1;36m16.0\u001b[0m\n",
       "germany            \u001b[1;36m15.0\u001b[0m\n",
       "united-kingdom      \u001b[1;36m9.0\u001b[0m\n",
       "spain               \u001b[1;36m5.0\u001b[0m\n",
       "san-marino          \u001b[1;36m0.0\u001b[0m\n",
       "georgia             \u001b[1;36m0.0\u001b[0m\n",
       "ireland             \u001b[1;36m0.0\u001b[0m\n",
       "latvia              \u001b[1;36m0.0\u001b[0m\n",
       "azerbaijan          \u001b[1;36m0.0\u001b[0m\n",
       "greece              \u001b[1;36m0.0\u001b[0m\n",
       "netherlands         \u001b[1;36m0.0\u001b[0m\n",
       "denmark             \u001b[1;36m0.0\u001b[0m\n",
       "malta               \u001b[1;36m0.0\u001b[0m\n",
       "iceland             \u001b[1;36m0.0\u001b[0m\n",
       "romania             \u001b[1;36m0.0\u001b[0m\n",
       "dtype: float64\n"
      ]
     },
     "metadata": {},
     "output_type": "display_data"
    }
   ],
   "source": [
    "pretty.pprint(tele_votes_total.sort_values(ascending=False))"
   ]
  },
  {
   "attachments": {},
   "cell_type": "markdown",
   "metadata": {},
   "source": [
    "Televotes seem to match quite well with the real televotes, so the calculation seems to be ok"
   ]
  },
  {
   "cell_type": "code",
   "execution_count": 43,
   "metadata": {},
   "outputs": [],
   "source": [
    "total_votes_as_in_show = jury_votes_total + tele_votes_total"
   ]
  },
  {
   "cell_type": "code",
   "execution_count": 45,
   "metadata": {},
   "outputs": [
    {
     "data": {
      "text/html": [
       "<pre style=\"white-space:pre;overflow-x:auto;line-height:normal;font-family:Menlo,'DejaVu Sans Mono',consolas,'Courier New',monospace\">sweden            <span style=\"color: #008080; text-decoration-color: #008080; font-weight: bold\">571.0</span>\n",
       "finland           <span style=\"color: #008080; text-decoration-color: #008080; font-weight: bold\">501.0</span>\n",
       "israel            <span style=\"color: #008080; text-decoration-color: #008080; font-weight: bold\">363.0</span>\n",
       "italy             <span style=\"color: #008080; text-decoration-color: #008080; font-weight: bold\">351.0</span>\n",
       "norway            <span style=\"color: #008080; text-decoration-color: #008080; font-weight: bold\">266.0</span>\n",
       "ukraine           <span style=\"color: #008080; text-decoration-color: #008080; font-weight: bold\">242.0</span>\n",
       "belgium           <span style=\"color: #008080; text-decoration-color: #008080; font-weight: bold\">176.0</span>\n",
       "estonia           <span style=\"color: #008080; text-decoration-color: #008080; font-weight: bold\">165.0</span>\n",
       "australia         <span style=\"color: #008080; text-decoration-color: #008080; font-weight: bold\">141.0</span>\n",
       "lithuania         <span style=\"color: #008080; text-decoration-color: #008080; font-weight: bold\">131.0</span>\n",
       "austria           <span style=\"color: #008080; text-decoration-color: #008080; font-weight: bold\">130.0</span>\n",
       "czechia           <span style=\"color: #008080; text-decoration-color: #008080; font-weight: bold\">129.0</span>\n",
       "armenia           <span style=\"color: #008080; text-decoration-color: #008080; font-weight: bold\">129.0</span>\n",
       "cyprus            <span style=\"color: #008080; text-decoration-color: #008080; font-weight: bold\">124.0</span>\n",
       "croatia           <span style=\"color: #008080; text-decoration-color: #008080; font-weight: bold\">118.0</span>\n",
       "moldova           <span style=\"color: #008080; text-decoration-color: #008080; font-weight: bold\">100.0</span>\n",
       "france             <span style=\"color: #008080; text-decoration-color: #008080; font-weight: bold\">97.0</span>\n",
       "spain              <span style=\"color: #008080; text-decoration-color: #008080; font-weight: bold\">95.0</span>\n",
       "switzerland        <span style=\"color: #008080; text-decoration-color: #008080; font-weight: bold\">91.0</span>\n",
       "poland             <span style=\"color: #008080; text-decoration-color: #008080; font-weight: bold\">85.0</span>\n",
       "slovenia           <span style=\"color: #008080; text-decoration-color: #008080; font-weight: bold\">78.0</span>\n",
       "albania            <span style=\"color: #008080; text-decoration-color: #008080; font-weight: bold\">78.0</span>\n",
       "portugal           <span style=\"color: #008080; text-decoration-color: #008080; font-weight: bold\">57.0</span>\n",
       "serbia             <span style=\"color: #008080; text-decoration-color: #008080; font-weight: bold\">28.0</span>\n",
       "united-kingdom     <span style=\"color: #008080; text-decoration-color: #008080; font-weight: bold\">28.0</span>\n",
       "germany            <span style=\"color: #008080; text-decoration-color: #008080; font-weight: bold\">18.0</span>\n",
       "malta               <span style=\"color: #008080; text-decoration-color: #008080; font-weight: bold\">0.0</span>\n",
       "latvia              <span style=\"color: #008080; text-decoration-color: #008080; font-weight: bold\">0.0</span>\n",
       "netherlands         <span style=\"color: #008080; text-decoration-color: #008080; font-weight: bold\">0.0</span>\n",
       "ireland             <span style=\"color: #008080; text-decoration-color: #008080; font-weight: bold\">0.0</span>\n",
       "iceland             <span style=\"color: #008080; text-decoration-color: #008080; font-weight: bold\">0.0</span>\n",
       "romania             <span style=\"color: #008080; text-decoration-color: #008080; font-weight: bold\">0.0</span>\n",
       "san-marino          <span style=\"color: #008080; text-decoration-color: #008080; font-weight: bold\">0.0</span>\n",
       "greece              <span style=\"color: #008080; text-decoration-color: #008080; font-weight: bold\">0.0</span>\n",
       "georgia             <span style=\"color: #008080; text-decoration-color: #008080; font-weight: bold\">0.0</span>\n",
       "denmark             <span style=\"color: #008080; text-decoration-color: #008080; font-weight: bold\">0.0</span>\n",
       "azerbaijan          <span style=\"color: #008080; text-decoration-color: #008080; font-weight: bold\">0.0</span>\n",
       "dtype: float64\n",
       "</pre>\n"
      ],
      "text/plain": [
       "sweden            \u001b[1;36m571.0\u001b[0m\n",
       "finland           \u001b[1;36m501.0\u001b[0m\n",
       "israel            \u001b[1;36m363.0\u001b[0m\n",
       "italy             \u001b[1;36m351.0\u001b[0m\n",
       "norway            \u001b[1;36m266.0\u001b[0m\n",
       "ukraine           \u001b[1;36m242.0\u001b[0m\n",
       "belgium           \u001b[1;36m176.0\u001b[0m\n",
       "estonia           \u001b[1;36m165.0\u001b[0m\n",
       "australia         \u001b[1;36m141.0\u001b[0m\n",
       "lithuania         \u001b[1;36m131.0\u001b[0m\n",
       "austria           \u001b[1;36m130.0\u001b[0m\n",
       "czechia           \u001b[1;36m129.0\u001b[0m\n",
       "armenia           \u001b[1;36m129.0\u001b[0m\n",
       "cyprus            \u001b[1;36m124.0\u001b[0m\n",
       "croatia           \u001b[1;36m118.0\u001b[0m\n",
       "moldova           \u001b[1;36m100.0\u001b[0m\n",
       "france             \u001b[1;36m97.0\u001b[0m\n",
       "spain              \u001b[1;36m95.0\u001b[0m\n",
       "switzerland        \u001b[1;36m91.0\u001b[0m\n",
       "poland             \u001b[1;36m85.0\u001b[0m\n",
       "slovenia           \u001b[1;36m78.0\u001b[0m\n",
       "albania            \u001b[1;36m78.0\u001b[0m\n",
       "portugal           \u001b[1;36m57.0\u001b[0m\n",
       "serbia             \u001b[1;36m28.0\u001b[0m\n",
       "united-kingdom     \u001b[1;36m28.0\u001b[0m\n",
       "germany            \u001b[1;36m18.0\u001b[0m\n",
       "malta               \u001b[1;36m0.0\u001b[0m\n",
       "latvia              \u001b[1;36m0.0\u001b[0m\n",
       "netherlands         \u001b[1;36m0.0\u001b[0m\n",
       "ireland             \u001b[1;36m0.0\u001b[0m\n",
       "iceland             \u001b[1;36m0.0\u001b[0m\n",
       "romania             \u001b[1;36m0.0\u001b[0m\n",
       "san-marino          \u001b[1;36m0.0\u001b[0m\n",
       "greece              \u001b[1;36m0.0\u001b[0m\n",
       "georgia             \u001b[1;36m0.0\u001b[0m\n",
       "denmark             \u001b[1;36m0.0\u001b[0m\n",
       "azerbaijan          \u001b[1;36m0.0\u001b[0m\n",
       "dtype: float64\n"
      ]
     },
     "metadata": {},
     "output_type": "display_data"
    }
   ],
   "source": [
    "pretty.pprint(total_votes_as_in_show.sort_values(ascending=False))"
   ]
  },
  {
   "attachments": {},
   "cell_type": "markdown",
   "metadata": {},
   "source": [
    "Conclusion: Overall it looks ok, however, there are slight differences I can currently not explain."
   ]
  },
  {
   "attachments": {},
   "cell_type": "markdown",
   "metadata": {},
   "source": [
    "#### Voting scheme: Everybody gets points from 26 to 1"
   ]
  },
  {
   "attachments": {},
   "cell_type": "markdown",
   "metadata": {},
   "source": [
    "This (and the following) voting scheme assumes that the ranking is calculated exactly the same for the jurys as it is now, and only the way points are awarded change.\n",
    "\n",
    "For this scheme, I assume that the points from 26 to 1 are evenly distributed according to the ranking"
   ]
  },
  {
   "cell_type": "code",
   "execution_count": 49,
   "metadata": {},
   "outputs": [],
   "source": [
    "equal_points = np.arange(25, -1, -1)\n",
    "equal_points = np.append(equal_points, 0)"
   ]
  },
  {
   "cell_type": "code",
   "execution_count": 50,
   "metadata": {},
   "outputs": [],
   "source": [
    "votes_jury_ranking_equal = pd.DataFrame(0, index=countries, columns=columns_jury_final)\n",
    "\n",
    "for voting_coun in countries:\n",
    "    votes_jury_ranking_equal.loc[:, f'{voting_coun}_jury'] = votes_jury_combined.loc[:, f'{voting_coun}_jury'].rank(ascending=False, method='min').replace(ranking, equal_points)\n",
    "    \n",
    "jury_votes_total_equal = votes_jury_ranking_equal.sum(axis=1)\n",
    "tele_votes_total_equal = votes_tele.replace(ranking, equal_points).sum(axis=1)"
   ]
  },
  {
   "cell_type": "code",
   "execution_count": 55,
   "metadata": {},
   "outputs": [
    {
     "data": {
      "text/html": [
       "<pre style=\"white-space:pre;overflow-x:auto;line-height:normal;font-family:Menlo,'DejaVu Sans Mono',consolas,'Courier New',monospace\">sweden            <span style=\"color: #008080; text-decoration-color: #008080; font-weight: bold\">839.0</span>\n",
       "italy             <span style=\"color: #008080; text-decoration-color: #008080; font-weight: bold\">682.0</span>\n",
       "israel            <span style=\"color: #008080; text-decoration-color: #008080; font-weight: bold\">661.0</span>\n",
       "estonia           <span style=\"color: #008080; text-decoration-color: #008080; font-weight: bold\">629.0</span>\n",
       "australia         <span style=\"color: #008080; text-decoration-color: #008080; font-weight: bold\">583.0</span>\n",
       "belgium           <span style=\"color: #008080; text-decoration-color: #008080; font-weight: bold\">581.0</span>\n",
       "austria           <span style=\"color: #008080; text-decoration-color: #008080; font-weight: bold\">569.0</span>\n",
       "spain             <span style=\"color: #008080; text-decoration-color: #008080; font-weight: bold\">558.0</span>\n",
       "finland           <span style=\"color: #008080; text-decoration-color: #008080; font-weight: bold\">543.0</span>\n",
       "cyprus            <span style=\"color: #008080; text-decoration-color: #008080; font-weight: bold\">538.0</span>\n",
       "armenia           <span style=\"color: #008080; text-decoration-color: #008080; font-weight: bold\">521.0</span>\n",
       "czechia           <span style=\"color: #008080; text-decoration-color: #008080; font-weight: bold\">508.0</span>\n",
       "lithuania         <span style=\"color: #008080; text-decoration-color: #008080; font-weight: bold\">490.0</span>\n",
       "switzerland       <span style=\"color: #008080; text-decoration-color: #008080; font-weight: bold\">489.0</span>\n",
       "france            <span style=\"color: #008080; text-decoration-color: #008080; font-weight: bold\">464.0</span>\n",
       "norway            <span style=\"color: #008080; text-decoration-color: #008080; font-weight: bold\">452.0</span>\n",
       "ukraine           <span style=\"color: #008080; text-decoration-color: #008080; font-weight: bold\">445.0</span>\n",
       "portugal          <span style=\"color: #008080; text-decoration-color: #008080; font-weight: bold\">376.0</span>\n",
       "slovenia          <span style=\"color: #008080; text-decoration-color: #008080; font-weight: bold\">323.0</span>\n",
       "united-kingdom    <span style=\"color: #008080; text-decoration-color: #008080; font-weight: bold\">320.0</span>\n",
       "poland            <span style=\"color: #008080; text-decoration-color: #008080; font-weight: bold\">270.0</span>\n",
       "moldova           <span style=\"color: #008080; text-decoration-color: #008080; font-weight: bold\">266.0</span>\n",
       "albania           <span style=\"color: #008080; text-decoration-color: #008080; font-weight: bold\">265.0</span>\n",
       "serbia            <span style=\"color: #008080; text-decoration-color: #008080; font-weight: bold\">253.0</span>\n",
       "croatia           <span style=\"color: #008080; text-decoration-color: #008080; font-weight: bold\">203.0</span>\n",
       "germany           <span style=\"color: #008080; text-decoration-color: #008080; font-weight: bold\">197.0</span>\n",
       "azerbaijan          <span style=\"color: #008080; text-decoration-color: #008080; font-weight: bold\">0.0</span>\n",
       "denmark             <span style=\"color: #008080; text-decoration-color: #008080; font-weight: bold\">0.0</span>\n",
       "georgia             <span style=\"color: #008080; text-decoration-color: #008080; font-weight: bold\">0.0</span>\n",
       "latvia              <span style=\"color: #008080; text-decoration-color: #008080; font-weight: bold\">0.0</span>\n",
       "san-marino          <span style=\"color: #008080; text-decoration-color: #008080; font-weight: bold\">0.0</span>\n",
       "ireland             <span style=\"color: #008080; text-decoration-color: #008080; font-weight: bold\">0.0</span>\n",
       "greece              <span style=\"color: #008080; text-decoration-color: #008080; font-weight: bold\">0.0</span>\n",
       "iceland             <span style=\"color: #008080; text-decoration-color: #008080; font-weight: bold\">0.0</span>\n",
       "netherlands         <span style=\"color: #008080; text-decoration-color: #008080; font-weight: bold\">0.0</span>\n",
       "malta               <span style=\"color: #008080; text-decoration-color: #008080; font-weight: bold\">0.0</span>\n",
       "romania             <span style=\"color: #008080; text-decoration-color: #008080; font-weight: bold\">0.0</span>\n",
       "dtype: float64\n",
       "</pre>\n"
      ],
      "text/plain": [
       "sweden            \u001b[1;36m839.0\u001b[0m\n",
       "italy             \u001b[1;36m682.0\u001b[0m\n",
       "israel            \u001b[1;36m661.0\u001b[0m\n",
       "estonia           \u001b[1;36m629.0\u001b[0m\n",
       "australia         \u001b[1;36m583.0\u001b[0m\n",
       "belgium           \u001b[1;36m581.0\u001b[0m\n",
       "austria           \u001b[1;36m569.0\u001b[0m\n",
       "spain             \u001b[1;36m558.0\u001b[0m\n",
       "finland           \u001b[1;36m543.0\u001b[0m\n",
       "cyprus            \u001b[1;36m538.0\u001b[0m\n",
       "armenia           \u001b[1;36m521.0\u001b[0m\n",
       "czechia           \u001b[1;36m508.0\u001b[0m\n",
       "lithuania         \u001b[1;36m490.0\u001b[0m\n",
       "switzerland       \u001b[1;36m489.0\u001b[0m\n",
       "france            \u001b[1;36m464.0\u001b[0m\n",
       "norway            \u001b[1;36m452.0\u001b[0m\n",
       "ukraine           \u001b[1;36m445.0\u001b[0m\n",
       "portugal          \u001b[1;36m376.0\u001b[0m\n",
       "slovenia          \u001b[1;36m323.0\u001b[0m\n",
       "united-kingdom    \u001b[1;36m320.0\u001b[0m\n",
       "poland            \u001b[1;36m270.0\u001b[0m\n",
       "moldova           \u001b[1;36m266.0\u001b[0m\n",
       "albania           \u001b[1;36m265.0\u001b[0m\n",
       "serbia            \u001b[1;36m253.0\u001b[0m\n",
       "croatia           \u001b[1;36m203.0\u001b[0m\n",
       "germany           \u001b[1;36m197.0\u001b[0m\n",
       "azerbaijan          \u001b[1;36m0.0\u001b[0m\n",
       "denmark             \u001b[1;36m0.0\u001b[0m\n",
       "georgia             \u001b[1;36m0.0\u001b[0m\n",
       "latvia              \u001b[1;36m0.0\u001b[0m\n",
       "san-marino          \u001b[1;36m0.0\u001b[0m\n",
       "ireland             \u001b[1;36m0.0\u001b[0m\n",
       "greece              \u001b[1;36m0.0\u001b[0m\n",
       "iceland             \u001b[1;36m0.0\u001b[0m\n",
       "netherlands         \u001b[1;36m0.0\u001b[0m\n",
       "malta               \u001b[1;36m0.0\u001b[0m\n",
       "romania             \u001b[1;36m0.0\u001b[0m\n",
       "dtype: float64\n"
      ]
     },
     "metadata": {},
     "output_type": "display_data"
    }
   ],
   "source": [
    "pretty.pprint(jury_votes_total_equal.sort_values(ascending=False))"
   ]
  },
  {
   "cell_type": "code",
   "execution_count": 56,
   "metadata": {},
   "outputs": [
    {
     "data": {
      "text/html": [
       "<pre style=\"white-space:pre;overflow-x:auto;line-height:normal;font-family:Menlo,'DejaVu Sans Mono',consolas,'Courier New',monospace\">finland           <span style=\"color: #008080; text-decoration-color: #008080; font-weight: bold\">861.0</span>\n",
       "sweden            <span style=\"color: #008080; text-decoration-color: #008080; font-weight: bold\">764.0</span>\n",
       "norway            <span style=\"color: #008080; text-decoration-color: #008080; font-weight: bold\">740.0</span>\n",
       "israel            <span style=\"color: #008080; text-decoration-color: #008080; font-weight: bold\">691.0</span>\n",
       "ukraine           <span style=\"color: #008080; text-decoration-color: #008080; font-weight: bold\">683.0</span>\n",
       "italy             <span style=\"color: #008080; text-decoration-color: #008080; font-weight: bold\">679.0</span>\n",
       "croatia           <span style=\"color: #008080; text-decoration-color: #008080; font-weight: bold\">564.0</span>\n",
       "moldova           <span style=\"color: #008080; text-decoration-color: #008080; font-weight: bold\">554.0</span>\n",
       "france            <span style=\"color: #008080; text-decoration-color: #008080; font-weight: bold\">533.0</span>\n",
       "poland            <span style=\"color: #008080; text-decoration-color: #008080; font-weight: bold\">532.0</span>\n",
       "cyprus            <span style=\"color: #008080; text-decoration-color: #008080; font-weight: bold\">464.0</span>\n",
       "czechia           <span style=\"color: #008080; text-decoration-color: #008080; font-weight: bold\">459.0</span>\n",
       "slovenia          <span style=\"color: #008080; text-decoration-color: #008080; font-weight: bold\">430.0</span>\n",
       "switzerland       <span style=\"color: #008080; text-decoration-color: #008080; font-weight: bold\">419.0</span>\n",
       "belgium           <span style=\"color: #008080; text-decoration-color: #008080; font-weight: bold\">413.0</span>\n",
       "germany           <span style=\"color: #008080; text-decoration-color: #008080; font-weight: bold\">375.0</span>\n",
       "austria           <span style=\"color: #008080; text-decoration-color: #008080; font-weight: bold\">363.0</span>\n",
       "armenia           <span style=\"color: #008080; text-decoration-color: #008080; font-weight: bold\">352.0</span>\n",
       "lithuania         <span style=\"color: #008080; text-decoration-color: #008080; font-weight: bold\">342.0</span>\n",
       "albania           <span style=\"color: #008080; text-decoration-color: #008080; font-weight: bold\">334.0</span>\n",
       "australia         <span style=\"color: #008080; text-decoration-color: #008080; font-weight: bold\">327.0</span>\n",
       "estonia           <span style=\"color: #008080; text-decoration-color: #008080; font-weight: bold\">285.0</span>\n",
       "serbia            <span style=\"color: #008080; text-decoration-color: #008080; font-weight: bold\">260.0</span>\n",
       "spain             <span style=\"color: #008080; text-decoration-color: #008080; font-weight: bold\">208.0</span>\n",
       "portugal          <span style=\"color: #008080; text-decoration-color: #008080; font-weight: bold\">197.0</span>\n",
       "united-kingdom    <span style=\"color: #008080; text-decoration-color: #008080; font-weight: bold\">196.0</span>\n",
       "san-marino          <span style=\"color: #008080; text-decoration-color: #008080; font-weight: bold\">0.0</span>\n",
       "azerbaijan          <span style=\"color: #008080; text-decoration-color: #008080; font-weight: bold\">0.0</span>\n",
       "denmark             <span style=\"color: #008080; text-decoration-color: #008080; font-weight: bold\">0.0</span>\n",
       "latvia              <span style=\"color: #008080; text-decoration-color: #008080; font-weight: bold\">0.0</span>\n",
       "ireland             <span style=\"color: #008080; text-decoration-color: #008080; font-weight: bold\">0.0</span>\n",
       "georgia             <span style=\"color: #008080; text-decoration-color: #008080; font-weight: bold\">0.0</span>\n",
       "greece              <span style=\"color: #008080; text-decoration-color: #008080; font-weight: bold\">0.0</span>\n",
       "netherlands         <span style=\"color: #008080; text-decoration-color: #008080; font-weight: bold\">0.0</span>\n",
       "iceland             <span style=\"color: #008080; text-decoration-color: #008080; font-weight: bold\">0.0</span>\n",
       "malta               <span style=\"color: #008080; text-decoration-color: #008080; font-weight: bold\">0.0</span>\n",
       "romania             <span style=\"color: #008080; text-decoration-color: #008080; font-weight: bold\">0.0</span>\n",
       "dtype: float64\n",
       "</pre>\n"
      ],
      "text/plain": [
       "finland           \u001b[1;36m861.0\u001b[0m\n",
       "sweden            \u001b[1;36m764.0\u001b[0m\n",
       "norway            \u001b[1;36m740.0\u001b[0m\n",
       "israel            \u001b[1;36m691.0\u001b[0m\n",
       "ukraine           \u001b[1;36m683.0\u001b[0m\n",
       "italy             \u001b[1;36m679.0\u001b[0m\n",
       "croatia           \u001b[1;36m564.0\u001b[0m\n",
       "moldova           \u001b[1;36m554.0\u001b[0m\n",
       "france            \u001b[1;36m533.0\u001b[0m\n",
       "poland            \u001b[1;36m532.0\u001b[0m\n",
       "cyprus            \u001b[1;36m464.0\u001b[0m\n",
       "czechia           \u001b[1;36m459.0\u001b[0m\n",
       "slovenia          \u001b[1;36m430.0\u001b[0m\n",
       "switzerland       \u001b[1;36m419.0\u001b[0m\n",
       "belgium           \u001b[1;36m413.0\u001b[0m\n",
       "germany           \u001b[1;36m375.0\u001b[0m\n",
       "austria           \u001b[1;36m363.0\u001b[0m\n",
       "armenia           \u001b[1;36m352.0\u001b[0m\n",
       "lithuania         \u001b[1;36m342.0\u001b[0m\n",
       "albania           \u001b[1;36m334.0\u001b[0m\n",
       "australia         \u001b[1;36m327.0\u001b[0m\n",
       "estonia           \u001b[1;36m285.0\u001b[0m\n",
       "serbia            \u001b[1;36m260.0\u001b[0m\n",
       "spain             \u001b[1;36m208.0\u001b[0m\n",
       "portugal          \u001b[1;36m197.0\u001b[0m\n",
       "united-kingdom    \u001b[1;36m196.0\u001b[0m\n",
       "san-marino          \u001b[1;36m0.0\u001b[0m\n",
       "azerbaijan          \u001b[1;36m0.0\u001b[0m\n",
       "denmark             \u001b[1;36m0.0\u001b[0m\n",
       "latvia              \u001b[1;36m0.0\u001b[0m\n",
       "ireland             \u001b[1;36m0.0\u001b[0m\n",
       "georgia             \u001b[1;36m0.0\u001b[0m\n",
       "greece              \u001b[1;36m0.0\u001b[0m\n",
       "netherlands         \u001b[1;36m0.0\u001b[0m\n",
       "iceland             \u001b[1;36m0.0\u001b[0m\n",
       "malta               \u001b[1;36m0.0\u001b[0m\n",
       "romania             \u001b[1;36m0.0\u001b[0m\n",
       "dtype: float64\n"
      ]
     },
     "metadata": {},
     "output_type": "display_data"
    }
   ],
   "source": [
    "pretty.pprint(tele_votes_total_equal.sort_values(ascending=False))"
   ]
  },
  {
   "cell_type": "code",
   "execution_count": 51,
   "metadata": {},
   "outputs": [],
   "source": [
    "total_votes_equal = tele_votes_total_equal + jury_votes_total_equal"
   ]
  },
  {
   "cell_type": "code",
   "execution_count": 54,
   "metadata": {},
   "outputs": [
    {
     "data": {
      "text/html": [
       "<pre style=\"white-space:pre;overflow-x:auto;line-height:normal;font-family:Menlo,'DejaVu Sans Mono',consolas,'Courier New',monospace\">sweden            <span style=\"color: #008080; text-decoration-color: #008080; font-weight: bold\">1603.0</span>\n",
       "finland           <span style=\"color: #008080; text-decoration-color: #008080; font-weight: bold\">1404.0</span>\n",
       "italy             <span style=\"color: #008080; text-decoration-color: #008080; font-weight: bold\">1361.0</span>\n",
       "israel            <span style=\"color: #008080; text-decoration-color: #008080; font-weight: bold\">1352.0</span>\n",
       "norway            <span style=\"color: #008080; text-decoration-color: #008080; font-weight: bold\">1192.0</span>\n",
       "ukraine           <span style=\"color: #008080; text-decoration-color: #008080; font-weight: bold\">1128.0</span>\n",
       "cyprus            <span style=\"color: #008080; text-decoration-color: #008080; font-weight: bold\">1002.0</span>\n",
       "france             <span style=\"color: #008080; text-decoration-color: #008080; font-weight: bold\">997.0</span>\n",
       "belgium            <span style=\"color: #008080; text-decoration-color: #008080; font-weight: bold\">994.0</span>\n",
       "czechia            <span style=\"color: #008080; text-decoration-color: #008080; font-weight: bold\">967.0</span>\n",
       "austria            <span style=\"color: #008080; text-decoration-color: #008080; font-weight: bold\">932.0</span>\n",
       "estonia            <span style=\"color: #008080; text-decoration-color: #008080; font-weight: bold\">914.0</span>\n",
       "australia          <span style=\"color: #008080; text-decoration-color: #008080; font-weight: bold\">910.0</span>\n",
       "switzerland        <span style=\"color: #008080; text-decoration-color: #008080; font-weight: bold\">908.0</span>\n",
       "armenia            <span style=\"color: #008080; text-decoration-color: #008080; font-weight: bold\">873.0</span>\n",
       "lithuania          <span style=\"color: #008080; text-decoration-color: #008080; font-weight: bold\">832.0</span>\n",
       "moldova            <span style=\"color: #008080; text-decoration-color: #008080; font-weight: bold\">820.0</span>\n",
       "poland             <span style=\"color: #008080; text-decoration-color: #008080; font-weight: bold\">802.0</span>\n",
       "croatia            <span style=\"color: #008080; text-decoration-color: #008080; font-weight: bold\">767.0</span>\n",
       "spain              <span style=\"color: #008080; text-decoration-color: #008080; font-weight: bold\">766.0</span>\n",
       "slovenia           <span style=\"color: #008080; text-decoration-color: #008080; font-weight: bold\">753.0</span>\n",
       "albania            <span style=\"color: #008080; text-decoration-color: #008080; font-weight: bold\">599.0</span>\n",
       "portugal           <span style=\"color: #008080; text-decoration-color: #008080; font-weight: bold\">573.0</span>\n",
       "germany            <span style=\"color: #008080; text-decoration-color: #008080; font-weight: bold\">572.0</span>\n",
       "united-kingdom     <span style=\"color: #008080; text-decoration-color: #008080; font-weight: bold\">516.0</span>\n",
       "serbia             <span style=\"color: #008080; text-decoration-color: #008080; font-weight: bold\">513.0</span>\n",
       "malta                <span style=\"color: #008080; text-decoration-color: #008080; font-weight: bold\">0.0</span>\n",
       "latvia               <span style=\"color: #008080; text-decoration-color: #008080; font-weight: bold\">0.0</span>\n",
       "netherlands          <span style=\"color: #008080; text-decoration-color: #008080; font-weight: bold\">0.0</span>\n",
       "ireland              <span style=\"color: #008080; text-decoration-color: #008080; font-weight: bold\">0.0</span>\n",
       "iceland              <span style=\"color: #008080; text-decoration-color: #008080; font-weight: bold\">0.0</span>\n",
       "romania              <span style=\"color: #008080; text-decoration-color: #008080; font-weight: bold\">0.0</span>\n",
       "san-marino           <span style=\"color: #008080; text-decoration-color: #008080; font-weight: bold\">0.0</span>\n",
       "greece               <span style=\"color: #008080; text-decoration-color: #008080; font-weight: bold\">0.0</span>\n",
       "georgia              <span style=\"color: #008080; text-decoration-color: #008080; font-weight: bold\">0.0</span>\n",
       "denmark              <span style=\"color: #008080; text-decoration-color: #008080; font-weight: bold\">0.0</span>\n",
       "azerbaijan           <span style=\"color: #008080; text-decoration-color: #008080; font-weight: bold\">0.0</span>\n",
       "dtype: float64\n",
       "</pre>\n"
      ],
      "text/plain": [
       "sweden            \u001b[1;36m1603.0\u001b[0m\n",
       "finland           \u001b[1;36m1404.0\u001b[0m\n",
       "italy             \u001b[1;36m1361.0\u001b[0m\n",
       "israel            \u001b[1;36m1352.0\u001b[0m\n",
       "norway            \u001b[1;36m1192.0\u001b[0m\n",
       "ukraine           \u001b[1;36m1128.0\u001b[0m\n",
       "cyprus            \u001b[1;36m1002.0\u001b[0m\n",
       "france             \u001b[1;36m997.0\u001b[0m\n",
       "belgium            \u001b[1;36m994.0\u001b[0m\n",
       "czechia            \u001b[1;36m967.0\u001b[0m\n",
       "austria            \u001b[1;36m932.0\u001b[0m\n",
       "estonia            \u001b[1;36m914.0\u001b[0m\n",
       "australia          \u001b[1;36m910.0\u001b[0m\n",
       "switzerland        \u001b[1;36m908.0\u001b[0m\n",
       "armenia            \u001b[1;36m873.0\u001b[0m\n",
       "lithuania          \u001b[1;36m832.0\u001b[0m\n",
       "moldova            \u001b[1;36m820.0\u001b[0m\n",
       "poland             \u001b[1;36m802.0\u001b[0m\n",
       "croatia            \u001b[1;36m767.0\u001b[0m\n",
       "spain              \u001b[1;36m766.0\u001b[0m\n",
       "slovenia           \u001b[1;36m753.0\u001b[0m\n",
       "albania            \u001b[1;36m599.0\u001b[0m\n",
       "portugal           \u001b[1;36m573.0\u001b[0m\n",
       "germany            \u001b[1;36m572.0\u001b[0m\n",
       "united-kingdom     \u001b[1;36m516.0\u001b[0m\n",
       "serbia             \u001b[1;36m513.0\u001b[0m\n",
       "malta                \u001b[1;36m0.0\u001b[0m\n",
       "latvia               \u001b[1;36m0.0\u001b[0m\n",
       "netherlands          \u001b[1;36m0.0\u001b[0m\n",
       "ireland              \u001b[1;36m0.0\u001b[0m\n",
       "iceland              \u001b[1;36m0.0\u001b[0m\n",
       "romania              \u001b[1;36m0.0\u001b[0m\n",
       "san-marino           \u001b[1;36m0.0\u001b[0m\n",
       "greece               \u001b[1;36m0.0\u001b[0m\n",
       "georgia              \u001b[1;36m0.0\u001b[0m\n",
       "denmark              \u001b[1;36m0.0\u001b[0m\n",
       "azerbaijan           \u001b[1;36m0.0\u001b[0m\n",
       "dtype: float64\n"
      ]
     },
     "metadata": {},
     "output_type": "display_data"
    }
   ],
   "source": [
    "pretty.pprint(total_votes_equal.sort_values(ascending=False))"
   ]
  },
  {
   "attachments": {},
   "cell_type": "markdown",
   "metadata": {},
   "source": [
    "In this voting scheme, Germany would have been 15th in the televotes, still last in jury votes, and in total in place 24"
   ]
  },
  {
   "attachments": {},
   "cell_type": "markdown",
   "metadata": {},
   "source": [
    "#### Points distributed from 12 to 1, but to all\n",
    "\n",
    "In this voting scheme, the points are distributed the same as for the jury vote, i.e. exponentially descending from 12 to 1"
   ]
  },
  {
   "cell_type": "code",
   "execution_count": 58,
   "metadata": {},
   "outputs": [],
   "source": [
    "votes_jury_ranking_expon = pd.DataFrame(0, index=countries, columns=columns_jury_final)\n",
    "\n",
    "jury_points_expanded = np.append(jury_points, 0.0)\n",
    "\n",
    "for voting_coun in countries:\n",
    "    votes_jury_ranking_expon.loc[:, f'{voting_coun}_jury'] = votes_jury_combined.loc[:, f'{voting_coun}_jury'].rank(ascending=False, method='min').replace(ranking, jury_points_expanded)\n",
    "    \n",
    "jury_votes_total_expon = votes_jury_ranking_expon.sum(axis=1)\n",
    "tele_votes_total_expon = votes_tele.replace(ranking, jury_points_expanded).sum(axis=1)"
   ]
  },
  {
   "cell_type": "code",
   "execution_count": 59,
   "metadata": {},
   "outputs": [
    {
     "data": {
      "text/html": [
       "<pre style=\"white-space:pre;overflow-x:auto;line-height:normal;font-family:Menlo,'DejaVu Sans Mono',consolas,'Courier New',monospace\">sweden            <span style=\"color: #008080; text-decoration-color: #008080; font-weight: bold\">369.951676</span>\n",
       "italy             <span style=\"color: #008080; text-decoration-color: #008080; font-weight: bold\">257.079089</span>\n",
       "israel            <span style=\"color: #008080; text-decoration-color: #008080; font-weight: bold\">252.602724</span>\n",
       "estonia           <span style=\"color: #008080; text-decoration-color: #008080; font-weight: bold\">230.380964</span>\n",
       "belgium           <span style=\"color: #008080; text-decoration-color: #008080; font-weight: bold\">208.478007</span>\n",
       "finland           <span style=\"color: #008080; text-decoration-color: #008080; font-weight: bold\">205.955926</span>\n",
       "australia         <span style=\"color: #008080; text-decoration-color: #008080; font-weight: bold\">205.600833</span>\n",
       "austria           <span style=\"color: #008080; text-decoration-color: #008080; font-weight: bold\">201.725472</span>\n",
       "spain             <span style=\"color: #008080; text-decoration-color: #008080; font-weight: bold\">185.888819</span>\n",
       "czechia           <span style=\"color: #008080; text-decoration-color: #008080; font-weight: bold\">174.847367</span>\n",
       "armenia           <span style=\"color: #008080; text-decoration-color: #008080; font-weight: bold\">169.520467</span>\n",
       "cyprus            <span style=\"color: #008080; text-decoration-color: #008080; font-weight: bold\">169.094683</span>\n",
       "lithuania         <span style=\"color: #008080; text-decoration-color: #008080; font-weight: bold\">167.517879</span>\n",
       "switzerland       <span style=\"color: #008080; text-decoration-color: #008080; font-weight: bold\">155.295331</span>\n",
       "france            <span style=\"color: #008080; text-decoration-color: #008080; font-weight: bold\">145.830331</span>\n",
       "norway            <span style=\"color: #008080; text-decoration-color: #008080; font-weight: bold\">145.277219</span>\n",
       "ukraine           <span style=\"color: #008080; text-decoration-color: #008080; font-weight: bold\">141.696266</span>\n",
       "portugal          <span style=\"color: #008080; text-decoration-color: #008080; font-weight: bold\">118.478418</span>\n",
       "slovenia          <span style=\"color: #008080; text-decoration-color: #008080; font-weight: bold\">104.040538</span>\n",
       "united-kingdom     <span style=\"color: #008080; text-decoration-color: #008080; font-weight: bold\">96.409590</span>\n",
       "moldova            <span style=\"color: #008080; text-decoration-color: #008080; font-weight: bold\">88.507150</span>\n",
       "albania            <span style=\"color: #008080; text-decoration-color: #008080; font-weight: bold\">86.618032</span>\n",
       "poland             <span style=\"color: #008080; text-decoration-color: #008080; font-weight: bold\">82.575507</span>\n",
       "serbia             <span style=\"color: #008080; text-decoration-color: #008080; font-weight: bold\">81.901620</span>\n",
       "croatia            <span style=\"color: #008080; text-decoration-color: #008080; font-weight: bold\">66.909804</span>\n",
       "germany            <span style=\"color: #008080; text-decoration-color: #008080; font-weight: bold\">62.759695</span>\n",
       "azerbaijan          <span style=\"color: #008080; text-decoration-color: #008080; font-weight: bold\">0.000000</span>\n",
       "denmark             <span style=\"color: #008080; text-decoration-color: #008080; font-weight: bold\">0.000000</span>\n",
       "georgia             <span style=\"color: #008080; text-decoration-color: #008080; font-weight: bold\">0.000000</span>\n",
       "latvia              <span style=\"color: #008080; text-decoration-color: #008080; font-weight: bold\">0.000000</span>\n",
       "san-marino          <span style=\"color: #008080; text-decoration-color: #008080; font-weight: bold\">0.000000</span>\n",
       "ireland             <span style=\"color: #008080; text-decoration-color: #008080; font-weight: bold\">0.000000</span>\n",
       "greece              <span style=\"color: #008080; text-decoration-color: #008080; font-weight: bold\">0.000000</span>\n",
       "iceland             <span style=\"color: #008080; text-decoration-color: #008080; font-weight: bold\">0.000000</span>\n",
       "netherlands         <span style=\"color: #008080; text-decoration-color: #008080; font-weight: bold\">0.000000</span>\n",
       "malta               <span style=\"color: #008080; text-decoration-color: #008080; font-weight: bold\">0.000000</span>\n",
       "romania             <span style=\"color: #008080; text-decoration-color: #008080; font-weight: bold\">0.000000</span>\n",
       "dtype: float64\n",
       "</pre>\n"
      ],
      "text/plain": [
       "sweden            \u001b[1;36m369.951676\u001b[0m\n",
       "italy             \u001b[1;36m257.079089\u001b[0m\n",
       "israel            \u001b[1;36m252.602724\u001b[0m\n",
       "estonia           \u001b[1;36m230.380964\u001b[0m\n",
       "belgium           \u001b[1;36m208.478007\u001b[0m\n",
       "finland           \u001b[1;36m205.955926\u001b[0m\n",
       "australia         \u001b[1;36m205.600833\u001b[0m\n",
       "austria           \u001b[1;36m201.725472\u001b[0m\n",
       "spain             \u001b[1;36m185.888819\u001b[0m\n",
       "czechia           \u001b[1;36m174.847367\u001b[0m\n",
       "armenia           \u001b[1;36m169.520467\u001b[0m\n",
       "cyprus            \u001b[1;36m169.094683\u001b[0m\n",
       "lithuania         \u001b[1;36m167.517879\u001b[0m\n",
       "switzerland       \u001b[1;36m155.295331\u001b[0m\n",
       "france            \u001b[1;36m145.830331\u001b[0m\n",
       "norway            \u001b[1;36m145.277219\u001b[0m\n",
       "ukraine           \u001b[1;36m141.696266\u001b[0m\n",
       "portugal          \u001b[1;36m118.478418\u001b[0m\n",
       "slovenia          \u001b[1;36m104.040538\u001b[0m\n",
       "united-kingdom     \u001b[1;36m96.409590\u001b[0m\n",
       "moldova            \u001b[1;36m88.507150\u001b[0m\n",
       "albania            \u001b[1;36m86.618032\u001b[0m\n",
       "poland             \u001b[1;36m82.575507\u001b[0m\n",
       "serbia             \u001b[1;36m81.901620\u001b[0m\n",
       "croatia            \u001b[1;36m66.909804\u001b[0m\n",
       "germany            \u001b[1;36m62.759695\u001b[0m\n",
       "azerbaijan          \u001b[1;36m0.000000\u001b[0m\n",
       "denmark             \u001b[1;36m0.000000\u001b[0m\n",
       "georgia             \u001b[1;36m0.000000\u001b[0m\n",
       "latvia              \u001b[1;36m0.000000\u001b[0m\n",
       "san-marino          \u001b[1;36m0.000000\u001b[0m\n",
       "ireland             \u001b[1;36m0.000000\u001b[0m\n",
       "greece              \u001b[1;36m0.000000\u001b[0m\n",
       "iceland             \u001b[1;36m0.000000\u001b[0m\n",
       "netherlands         \u001b[1;36m0.000000\u001b[0m\n",
       "malta               \u001b[1;36m0.000000\u001b[0m\n",
       "romania             \u001b[1;36m0.000000\u001b[0m\n",
       "dtype: float64\n"
      ]
     },
     "metadata": {},
     "output_type": "display_data"
    }
   ],
   "source": [
    "pretty.pprint(jury_votes_total_expon.sort_values(ascending=False))"
   ]
  },
  {
   "cell_type": "code",
   "execution_count": 60,
   "metadata": {},
   "outputs": [
    {
     "data": {
      "text/html": [
       "<pre style=\"white-space:pre;overflow-x:auto;line-height:normal;font-family:Menlo,'DejaVu Sans Mono',consolas,'Courier New',monospace\">finland           <span style=\"color: #008080; text-decoration-color: #008080; font-weight: bold\">389.714512</span>\n",
       "sweden            <span style=\"color: #008080; text-decoration-color: #008080; font-weight: bold\">302.015992</span>\n",
       "norway            <span style=\"color: #008080; text-decoration-color: #008080; font-weight: bold\">281.929647</span>\n",
       "ukraine           <span style=\"color: #008080; text-decoration-color: #008080; font-weight: bold\">262.059836</span>\n",
       "israel            <span style=\"color: #008080; text-decoration-color: #008080; font-weight: bold\">259.918748</span>\n",
       "italy             <span style=\"color: #008080; text-decoration-color: #008080; font-weight: bold\">252.357707</span>\n",
       "croatia           <span style=\"color: #008080; text-decoration-color: #008080; font-weight: bold\">193.819298</span>\n",
       "moldova           <span style=\"color: #008080; text-decoration-color: #008080; font-weight: bold\">180.075622</span>\n",
       "poland            <span style=\"color: #008080; text-decoration-color: #008080; font-weight: bold\">173.856392</span>\n",
       "france            <span style=\"color: #008080; text-decoration-color: #008080; font-weight: bold\">161.042234</span>\n",
       "cyprus            <span style=\"color: #008080; text-decoration-color: #008080; font-weight: bold\">149.080642</span>\n",
       "czechia           <span style=\"color: #008080; text-decoration-color: #008080; font-weight: bold\">135.535927</span>\n",
       "slovenia          <span style=\"color: #008080; text-decoration-color: #008080; font-weight: bold\">134.393167</span>\n",
       "belgium           <span style=\"color: #008080; text-decoration-color: #008080; font-weight: bold\">132.043445</span>\n",
       "switzerland       <span style=\"color: #008080; text-decoration-color: #008080; font-weight: bold\">124.299800</span>\n",
       "armenia           <span style=\"color: #008080; text-decoration-color: #008080; font-weight: bold\">122.486788</span>\n",
       "albania           <span style=\"color: #008080; text-decoration-color: #008080; font-weight: bold\">121.060729</span>\n",
       "lithuania         <span style=\"color: #008080; text-decoration-color: #008080; font-weight: bold\">113.811842</span>\n",
       "germany           <span style=\"color: #008080; text-decoration-color: #008080; font-weight: bold\">105.100678</span>\n",
       "austria           <span style=\"color: #008080; text-decoration-color: #008080; font-weight: bold\">104.232369</span>\n",
       "australia          <span style=\"color: #008080; text-decoration-color: #008080; font-weight: bold\">99.875076</span>\n",
       "estonia            <span style=\"color: #008080; text-decoration-color: #008080; font-weight: bold\">89.974811</span>\n",
       "serbia             <span style=\"color: #008080; text-decoration-color: #008080; font-weight: bold\">82.568168</span>\n",
       "portugal           <span style=\"color: #008080; text-decoration-color: #008080; font-weight: bold\">69.278871</span>\n",
       "united-kingdom     <span style=\"color: #008080; text-decoration-color: #008080; font-weight: bold\">68.595313</span>\n",
       "spain              <span style=\"color: #008080; text-decoration-color: #008080; font-weight: bold\">65.815792</span>\n",
       "georgia             <span style=\"color: #008080; text-decoration-color: #008080; font-weight: bold\">0.000000</span>\n",
       "netherlands         <span style=\"color: #008080; text-decoration-color: #008080; font-weight: bold\">0.000000</span>\n",
       "iceland             <span style=\"color: #008080; text-decoration-color: #008080; font-weight: bold\">0.000000</span>\n",
       "romania             <span style=\"color: #008080; text-decoration-color: #008080; font-weight: bold\">0.000000</span>\n",
       "san-marino          <span style=\"color: #008080; text-decoration-color: #008080; font-weight: bold\">0.000000</span>\n",
       "malta               <span style=\"color: #008080; text-decoration-color: #008080; font-weight: bold\">0.000000</span>\n",
       "denmark             <span style=\"color: #008080; text-decoration-color: #008080; font-weight: bold\">0.000000</span>\n",
       "azerbaijan          <span style=\"color: #008080; text-decoration-color: #008080; font-weight: bold\">0.000000</span>\n",
       "latvia              <span style=\"color: #008080; text-decoration-color: #008080; font-weight: bold\">0.000000</span>\n",
       "greece              <span style=\"color: #008080; text-decoration-color: #008080; font-weight: bold\">0.000000</span>\n",
       "ireland             <span style=\"color: #008080; text-decoration-color: #008080; font-weight: bold\">0.000000</span>\n",
       "dtype: float64\n",
       "</pre>\n"
      ],
      "text/plain": [
       "finland           \u001b[1;36m389.714512\u001b[0m\n",
       "sweden            \u001b[1;36m302.015992\u001b[0m\n",
       "norway            \u001b[1;36m281.929647\u001b[0m\n",
       "ukraine           \u001b[1;36m262.059836\u001b[0m\n",
       "israel            \u001b[1;36m259.918748\u001b[0m\n",
       "italy             \u001b[1;36m252.357707\u001b[0m\n",
       "croatia           \u001b[1;36m193.819298\u001b[0m\n",
       "moldova           \u001b[1;36m180.075622\u001b[0m\n",
       "poland            \u001b[1;36m173.856392\u001b[0m\n",
       "france            \u001b[1;36m161.042234\u001b[0m\n",
       "cyprus            \u001b[1;36m149.080642\u001b[0m\n",
       "czechia           \u001b[1;36m135.535927\u001b[0m\n",
       "slovenia          \u001b[1;36m134.393167\u001b[0m\n",
       "belgium           \u001b[1;36m132.043445\u001b[0m\n",
       "switzerland       \u001b[1;36m124.299800\u001b[0m\n",
       "armenia           \u001b[1;36m122.486788\u001b[0m\n",
       "albania           \u001b[1;36m121.060729\u001b[0m\n",
       "lithuania         \u001b[1;36m113.811842\u001b[0m\n",
       "germany           \u001b[1;36m105.100678\u001b[0m\n",
       "austria           \u001b[1;36m104.232369\u001b[0m\n",
       "australia          \u001b[1;36m99.875076\u001b[0m\n",
       "estonia            \u001b[1;36m89.974811\u001b[0m\n",
       "serbia             \u001b[1;36m82.568168\u001b[0m\n",
       "portugal           \u001b[1;36m69.278871\u001b[0m\n",
       "united-kingdom     \u001b[1;36m68.595313\u001b[0m\n",
       "spain              \u001b[1;36m65.815792\u001b[0m\n",
       "georgia             \u001b[1;36m0.000000\u001b[0m\n",
       "netherlands         \u001b[1;36m0.000000\u001b[0m\n",
       "iceland             \u001b[1;36m0.000000\u001b[0m\n",
       "romania             \u001b[1;36m0.000000\u001b[0m\n",
       "san-marino          \u001b[1;36m0.000000\u001b[0m\n",
       "malta               \u001b[1;36m0.000000\u001b[0m\n",
       "denmark             \u001b[1;36m0.000000\u001b[0m\n",
       "azerbaijan          \u001b[1;36m0.000000\u001b[0m\n",
       "latvia              \u001b[1;36m0.000000\u001b[0m\n",
       "greece              \u001b[1;36m0.000000\u001b[0m\n",
       "ireland             \u001b[1;36m0.000000\u001b[0m\n",
       "dtype: float64\n"
      ]
     },
     "metadata": {},
     "output_type": "display_data"
    }
   ],
   "source": [
    "pretty.pprint(tele_votes_total_expon.sort_values(ascending=False))"
   ]
  },
  {
   "cell_type": "code",
   "execution_count": 61,
   "metadata": {},
   "outputs": [],
   "source": [
    "total_votes_expon = tele_votes_total_expon + jury_votes_total_expon"
   ]
  },
  {
   "cell_type": "code",
   "execution_count": 62,
   "metadata": {},
   "outputs": [
    {
     "data": {
      "text/html": [
       "<pre style=\"white-space:pre;overflow-x:auto;line-height:normal;font-family:Menlo,'DejaVu Sans Mono',consolas,'Courier New',monospace\">sweden            <span style=\"color: #008080; text-decoration-color: #008080; font-weight: bold\">671.967668</span>\n",
       "finland           <span style=\"color: #008080; text-decoration-color: #008080; font-weight: bold\">595.670438</span>\n",
       "israel            <span style=\"color: #008080; text-decoration-color: #008080; font-weight: bold\">512.521472</span>\n",
       "italy             <span style=\"color: #008080; text-decoration-color: #008080; font-weight: bold\">509.436796</span>\n",
       "norway            <span style=\"color: #008080; text-decoration-color: #008080; font-weight: bold\">427.206865</span>\n",
       "ukraine           <span style=\"color: #008080; text-decoration-color: #008080; font-weight: bold\">403.756101</span>\n",
       "belgium           <span style=\"color: #008080; text-decoration-color: #008080; font-weight: bold\">340.521452</span>\n",
       "estonia           <span style=\"color: #008080; text-decoration-color: #008080; font-weight: bold\">320.355776</span>\n",
       "cyprus            <span style=\"color: #008080; text-decoration-color: #008080; font-weight: bold\">318.175324</span>\n",
       "czechia           <span style=\"color: #008080; text-decoration-color: #008080; font-weight: bold\">310.383294</span>\n",
       "france            <span style=\"color: #008080; text-decoration-color: #008080; font-weight: bold\">306.872565</span>\n",
       "austria           <span style=\"color: #008080; text-decoration-color: #008080; font-weight: bold\">305.957841</span>\n",
       "australia         <span style=\"color: #008080; text-decoration-color: #008080; font-weight: bold\">305.475908</span>\n",
       "armenia           <span style=\"color: #008080; text-decoration-color: #008080; font-weight: bold\">292.007255</span>\n",
       "lithuania         <span style=\"color: #008080; text-decoration-color: #008080; font-weight: bold\">281.329721</span>\n",
       "switzerland       <span style=\"color: #008080; text-decoration-color: #008080; font-weight: bold\">279.595131</span>\n",
       "moldova           <span style=\"color: #008080; text-decoration-color: #008080; font-weight: bold\">268.582772</span>\n",
       "croatia           <span style=\"color: #008080; text-decoration-color: #008080; font-weight: bold\">260.729102</span>\n",
       "poland            <span style=\"color: #008080; text-decoration-color: #008080; font-weight: bold\">256.431899</span>\n",
       "spain             <span style=\"color: #008080; text-decoration-color: #008080; font-weight: bold\">251.704611</span>\n",
       "slovenia          <span style=\"color: #008080; text-decoration-color: #008080; font-weight: bold\">238.433705</span>\n",
       "albania           <span style=\"color: #008080; text-decoration-color: #008080; font-weight: bold\">207.678761</span>\n",
       "portugal          <span style=\"color: #008080; text-decoration-color: #008080; font-weight: bold\">187.757289</span>\n",
       "germany           <span style=\"color: #008080; text-decoration-color: #008080; font-weight: bold\">167.860373</span>\n",
       "united-kingdom    <span style=\"color: #008080; text-decoration-color: #008080; font-weight: bold\">165.004902</span>\n",
       "serbia            <span style=\"color: #008080; text-decoration-color: #008080; font-weight: bold\">164.469788</span>\n",
       "malta               <span style=\"color: #008080; text-decoration-color: #008080; font-weight: bold\">0.000000</span>\n",
       "latvia              <span style=\"color: #008080; text-decoration-color: #008080; font-weight: bold\">0.000000</span>\n",
       "netherlands         <span style=\"color: #008080; text-decoration-color: #008080; font-weight: bold\">0.000000</span>\n",
       "ireland             <span style=\"color: #008080; text-decoration-color: #008080; font-weight: bold\">0.000000</span>\n",
       "iceland             <span style=\"color: #008080; text-decoration-color: #008080; font-weight: bold\">0.000000</span>\n",
       "romania             <span style=\"color: #008080; text-decoration-color: #008080; font-weight: bold\">0.000000</span>\n",
       "san-marino          <span style=\"color: #008080; text-decoration-color: #008080; font-weight: bold\">0.000000</span>\n",
       "greece              <span style=\"color: #008080; text-decoration-color: #008080; font-weight: bold\">0.000000</span>\n",
       "georgia             <span style=\"color: #008080; text-decoration-color: #008080; font-weight: bold\">0.000000</span>\n",
       "denmark             <span style=\"color: #008080; text-decoration-color: #008080; font-weight: bold\">0.000000</span>\n",
       "azerbaijan          <span style=\"color: #008080; text-decoration-color: #008080; font-weight: bold\">0.000000</span>\n",
       "dtype: float64\n",
       "</pre>\n"
      ],
      "text/plain": [
       "sweden            \u001b[1;36m671.967668\u001b[0m\n",
       "finland           \u001b[1;36m595.670438\u001b[0m\n",
       "israel            \u001b[1;36m512.521472\u001b[0m\n",
       "italy             \u001b[1;36m509.436796\u001b[0m\n",
       "norway            \u001b[1;36m427.206865\u001b[0m\n",
       "ukraine           \u001b[1;36m403.756101\u001b[0m\n",
       "belgium           \u001b[1;36m340.521452\u001b[0m\n",
       "estonia           \u001b[1;36m320.355776\u001b[0m\n",
       "cyprus            \u001b[1;36m318.175324\u001b[0m\n",
       "czechia           \u001b[1;36m310.383294\u001b[0m\n",
       "france            \u001b[1;36m306.872565\u001b[0m\n",
       "austria           \u001b[1;36m305.957841\u001b[0m\n",
       "australia         \u001b[1;36m305.475908\u001b[0m\n",
       "armenia           \u001b[1;36m292.007255\u001b[0m\n",
       "lithuania         \u001b[1;36m281.329721\u001b[0m\n",
       "switzerland       \u001b[1;36m279.595131\u001b[0m\n",
       "moldova           \u001b[1;36m268.582772\u001b[0m\n",
       "croatia           \u001b[1;36m260.729102\u001b[0m\n",
       "poland            \u001b[1;36m256.431899\u001b[0m\n",
       "spain             \u001b[1;36m251.704611\u001b[0m\n",
       "slovenia          \u001b[1;36m238.433705\u001b[0m\n",
       "albania           \u001b[1;36m207.678761\u001b[0m\n",
       "portugal          \u001b[1;36m187.757289\u001b[0m\n",
       "germany           \u001b[1;36m167.860373\u001b[0m\n",
       "united-kingdom    \u001b[1;36m165.004902\u001b[0m\n",
       "serbia            \u001b[1;36m164.469788\u001b[0m\n",
       "malta               \u001b[1;36m0.000000\u001b[0m\n",
       "latvia              \u001b[1;36m0.000000\u001b[0m\n",
       "netherlands         \u001b[1;36m0.000000\u001b[0m\n",
       "ireland             \u001b[1;36m0.000000\u001b[0m\n",
       "iceland             \u001b[1;36m0.000000\u001b[0m\n",
       "romania             \u001b[1;36m0.000000\u001b[0m\n",
       "san-marino          \u001b[1;36m0.000000\u001b[0m\n",
       "greece              \u001b[1;36m0.000000\u001b[0m\n",
       "georgia             \u001b[1;36m0.000000\u001b[0m\n",
       "denmark             \u001b[1;36m0.000000\u001b[0m\n",
       "azerbaijan          \u001b[1;36m0.000000\u001b[0m\n",
       "dtype: float64\n"
      ]
     },
     "metadata": {},
     "output_type": "display_data"
    }
   ],
   "source": [
    "pretty.pprint(total_votes_expon.sort_values(ascending=False))"
   ]
  },
  {
   "attachments": {},
   "cell_type": "markdown",
   "metadata": {},
   "source": [
    "In this scheme Germany would have been 19th in televote, last in jury vote, and 24th overall again."
   ]
  },
  {
   "cell_type": "markdown",
   "metadata": {},
   "source": []
  }
 ],
 "metadata": {
  "kernelspec": {
   "display_name": "tests-iEd5lnFy",
   "language": "python",
   "name": "python3"
  },
  "language_info": {
   "codemirror_mode": {
    "name": "ipython",
    "version": 3
   },
   "file_extension": ".py",
   "mimetype": "text/x-python",
   "name": "python",
   "nbconvert_exporter": "python",
   "pygments_lexer": "ipython3",
   "version": "3.10.1"
  },
  "orig_nbformat": 4,
  "vscode": {
   "interpreter": {
    "hash": "9c2396d4417124c66d7b3d95b2251f4e4fa5f78746df116498fcb678d6569bf4"
   }
  }
 },
 "nbformat": 4,
 "nbformat_minor": 2
}
