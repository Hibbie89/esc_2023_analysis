{
 "cells": [
  {
   "attachments": {},
   "cell_type": "markdown",
   "metadata": {},
   "source": [
    "### Analysis of Liverpool 2023 Voting\n",
    "This analysis assumes different voting schemes, which all have in common that all countries apart from the last get points. This scheme would work for 25 participants, too, as then the last act would get 1 point instead of 0.\n",
    "\n",
    "First case assumes that the points from 0 - 26 are distributed evenly, while the second scheme assumes that the second best gets 26 and the best 28 points.\n",
    "\n",
    "The data is scraped from eurovision.tv for all countries"
   ]
  },
  {
   "cell_type": "code",
   "execution_count": 23,
   "metadata": {},
   "outputs": [],
   "source": [
    "import requests\n",
    "from bs4 import BeautifulSoup\n",
    "import pandas as pd\n",
    "import numpy as np\n",
    "from rich import pretty"
   ]
  },
  {
   "cell_type": "code",
   "execution_count": 2,
   "metadata": {},
   "outputs": [],
   "source": [
    "base_path = 'https://eurovision.tv/event/liverpool-2023/grand-final/results/{0}'\n",
    "header = {\"User-Agent\": \"Mozilla/5.0 (Windows NT 10.0; Win64; x64)\"}\n",
    "# countries = ('albania', 'armenia', 'australia', 'austria', 'belgium', 'croatia', 'cyprus', 'czechia', 'estonia', 'finland', 'france', 'germany', 'israel', 'italy', 'lithuania', 'moldova', 'norway', 'poland', 'portugal', 'serbia', 'slovenia', 'spain', 'sweden', 'switzerland', 'ukraine', 'united kingdom')\n",
    "voting_type = ('juryA', 'juryB', 'juryC', 'juryD', 'juryE')\n",
    "load_from_internet = True"
   ]
  },
  {
   "attachments": {},
   "cell_type": "markdown",
   "metadata": {},
   "source": [
    "Reading out the names of the voting countries from the list of countries entry"
   ]
  },
  {
   "cell_type": "code",
   "execution_count": 3,
   "metadata": {},
   "outputs": [],
   "source": [
    "\n",
    "respones_for_countries = requests.get(base_path.format('albania'), headers=header)\n",
    "countries_soup = BeautifulSoup(respones_for_countries.text, 'html.parser')\n"
   ]
  },
  {
   "cell_type": "code",
   "execution_count": 4,
   "metadata": {},
   "outputs": [],
   "source": [
    "countries = []\n",
    "country_selection = countries_soup.find('select', class_='form-select')\n",
    "for con in country_selection.children:\n",
    "    countries.append(con.text.lower().replace(' ', '-'))"
   ]
  },
  {
   "attachments": {},
   "cell_type": "markdown",
   "metadata": {},
   "source": [
    "First, lets create the final data structure to be populated. The data structure contains a line for each country, and the columns are the origins of the points.\n",
    "The origins are named by the following scheme: '<country>_tele', '<country>_juryA', etc"
   ]
  },
  {
   "cell_type": "code",
   "execution_count": 5,
   "metadata": {},
   "outputs": [],
   "source": [
    "columns_jury = []\n",
    "columns_jury_final = []\n",
    "columns_tele = []\n",
    "for voted_to_coun in countries:\n",
    "    for vote in voting_type:\n",
    "        columns_jury.append(f'{voted_to_coun}_{vote}')\n",
    "    columns_tele.append(f'{voted_to_coun}_tele')\n",
    "    columns_jury_final.append(f'{voted_to_coun}_jury')\n",
    "        \n",
    "votes_jury = pd.DataFrame(index=countries, columns=columns_jury)\n",
    "votes_tele = pd.DataFrame(index=countries, columns=columns_tele)"
   ]
  },
  {
   "cell_type": "code",
   "execution_count": 6,
   "metadata": {},
   "outputs": [
    {
     "name": "stdout",
     "output_type": "stream",
     "text": [
      "https://eurovision.tv/event/liverpool-2023/grand-final/results/albania\n",
      "https://eurovision.tv/event/liverpool-2023/grand-final/results/armenia\n",
      "https://eurovision.tv/event/liverpool-2023/grand-final/results/australia\n",
      "https://eurovision.tv/event/liverpool-2023/grand-final/results/austria\n",
      "https://eurovision.tv/event/liverpool-2023/grand-final/results/azerbaijan\n",
      "https://eurovision.tv/event/liverpool-2023/grand-final/results/belgium\n",
      "https://eurovision.tv/event/liverpool-2023/grand-final/results/croatia\n",
      "https://eurovision.tv/event/liverpool-2023/grand-final/results/cyprus\n",
      "https://eurovision.tv/event/liverpool-2023/grand-final/results/czechia\n",
      "https://eurovision.tv/event/liverpool-2023/grand-final/results/denmark\n",
      "https://eurovision.tv/event/liverpool-2023/grand-final/results/estonia\n",
      "https://eurovision.tv/event/liverpool-2023/grand-final/results/finland\n",
      "https://eurovision.tv/event/liverpool-2023/grand-final/results/france\n",
      "https://eurovision.tv/event/liverpool-2023/grand-final/results/georgia\n",
      "https://eurovision.tv/event/liverpool-2023/grand-final/results/germany\n",
      "https://eurovision.tv/event/liverpool-2023/grand-final/results/greece\n",
      "https://eurovision.tv/event/liverpool-2023/grand-final/results/iceland\n",
      "https://eurovision.tv/event/liverpool-2023/grand-final/results/ireland\n",
      "https://eurovision.tv/event/liverpool-2023/grand-final/results/israel\n",
      "https://eurovision.tv/event/liverpool-2023/grand-final/results/italy\n",
      "https://eurovision.tv/event/liverpool-2023/grand-final/results/latvia\n",
      "https://eurovision.tv/event/liverpool-2023/grand-final/results/lithuania\n",
      "https://eurovision.tv/event/liverpool-2023/grand-final/results/malta\n",
      "https://eurovision.tv/event/liverpool-2023/grand-final/results/moldova\n",
      "https://eurovision.tv/event/liverpool-2023/grand-final/results/netherlands\n",
      "https://eurovision.tv/event/liverpool-2023/grand-final/results/norway\n",
      "https://eurovision.tv/event/liverpool-2023/grand-final/results/poland\n",
      "https://eurovision.tv/event/liverpool-2023/grand-final/results/portugal\n",
      "https://eurovision.tv/event/liverpool-2023/grand-final/results/romania\n",
      "https://eurovision.tv/event/liverpool-2023/grand-final/results/san-marino\n",
      "https://eurovision.tv/event/liverpool-2023/grand-final/results/serbia\n",
      "https://eurovision.tv/event/liverpool-2023/grand-final/results/slovenia\n",
      "https://eurovision.tv/event/liverpool-2023/grand-final/results/spain\n",
      "https://eurovision.tv/event/liverpool-2023/grand-final/results/sweden\n",
      "https://eurovision.tv/event/liverpool-2023/grand-final/results/switzerland\n",
      "https://eurovision.tv/event/liverpool-2023/grand-final/results/ukraine\n",
      "https://eurovision.tv/event/liverpool-2023/grand-final/results/united-kingdom\n"
     ]
    }
   ],
   "source": [
    "if load_from_internet:\n",
    "    for voted_to_coun in countries:\n",
    "        voted_to_coun = voted_to_coun.replace(' ', '-')\n",
    "        print(base_path.format(voted_to_coun))\n",
    "        response = requests.get(base_path.format(voted_to_coun), headers=header)\n",
    "        soup = BeautifulSoup(response.text, 'html.parser')\n",
    "        detailed_voting = soup.find('table').find('tbody')\n",
    "        rows = detailed_voting.findAll('tr')\n",
    "        for row in rows:\n",
    "            cols = row.findAll('td')\n",
    "            origin = cols[0].text.strip().lower().replace(' ', '-')\n",
    "            # Add jury votes\n",
    "            votes_jury.loc[origin, f'{voted_to_coun}_juryA'] = int(cols[2].text.strip())\n",
    "            votes_jury.loc[origin, f'{voted_to_coun}_juryB'] = int(cols[3].text.strip())\n",
    "            votes_jury.loc[origin, f'{voted_to_coun}_juryC'] = int(cols[4].text.strip())\n",
    "            votes_jury.loc[origin, f'{voted_to_coun}_juryD'] = int(cols[5].text.strip())\n",
    "            if len(cols) == 9:\n",
    "                votes_jury.loc[origin, f'{voted_to_coun}_juryE'] = int(cols[6].text.strip())\n",
    "            # Add televotes (more complicated due to structure)\n",
    "            votes_tele.loc[origin, f'{voted_to_coun}_tele'] = int(cols[-1].text.split(' ')[-1].strip('stndrh'))\n",
    "else:\n",
    "    votes_jury = pd.read_csv(r'voting_results_table_jury.csv')\n",
    "    votes_tele = pd.read_csv(r'voting_results_table_tele.csv')"
   ]
  },
  {
   "cell_type": "code",
   "execution_count": 7,
   "metadata": {},
   "outputs": [],
   "source": [
    "# save data frame to file to not depend on internet connection\n",
    "votes_jury.to_csv(r'voting_results_table_jury.csv')\n",
    "votes_tele.to_csv(r'voting_results_table_tele.csv')"
   ]
  },
  {
   "attachments": {},
   "cell_type": "markdown",
   "metadata": {},
   "source": [
    "Combining jury votes per country, ordering them from lowest to highest rank, and reassigning 1st to 26th place (26th place will always be the country itself getting 0 points from itself)"
   ]
  },
  {
   "attachments": {},
   "cell_type": "markdown",
   "metadata": {},
   "source": [
    "### Implement voting schema\n",
    "\n",
    "#### First trying to reproduce the official voting scheme\n",
    "\n",
    "This is not a piece of cake, as the voting system is maximally intransparent... See e.g. https://thateurovisionsite.com/2023/04/12/eurovision-2023-voting-rules/\n",
    "\n",
    "Each jury member ranks from 1-25, this is converted to points from 12 decreasing in the usual manner. These points from all judges are combined and then sorted again, and the first 10 get the usual points."
   ]
  },
  {
   "cell_type": "code",
   "execution_count": 8,
   "metadata": {},
   "outputs": [],
   "source": [
    "votes_jury_combined = pd.DataFrame(index=countries, columns=columns_jury_final)"
   ]
  },
  {
   "cell_type": "code",
   "execution_count": 13,
   "metadata": {},
   "outputs": [],
   "source": [
    "jury_points = np.zeros((26,))\n",
    "jury_points[0:10] = np.array([12, 10, 8, 7, 6, 5, 4, 3, 2, 1])\n",
    "ranking = np.array([i + 1 for i in range(26)])"
   ]
  },
  {
   "cell_type": "code",
   "execution_count": 15,
   "metadata": {},
   "outputs": [],
   "source": [
    "votes_jury_points_individual = votes_jury.replace(ranking, jury_points)"
   ]
  },
  {
   "cell_type": "code",
   "execution_count": 16,
   "metadata": {},
   "outputs": [],
   "source": [
    "votes_jury_individual_control = votes_jury_points_individual.sum(axis=0)"
   ]
  },
  {
   "cell_type": "code",
   "execution_count": 17,
   "metadata": {},
   "outputs": [],
   "source": [
    "for voting_coun in countries:\n",
    "    for voted_to_coun in countries:\n",
    "        votes_jury_combined.loc[voting_coun, f'{voted_to_coun}_jury'] = votes_jury_points_individual.loc[voting_coun, (col for col in votes_jury if col.startswith(f'{voted_to_coun}'))].sum()"
   ]
  },
  {
   "attachments": {},
   "cell_type": "markdown",
   "metadata": {},
   "source": [
    "Convert the placing into a placing from 1st to last"
   ]
  },
  {
   "cell_type": "code",
   "execution_count": 19,
   "metadata": {},
   "outputs": [],
   "source": [
    "votes_jury_ranking = pd.DataFrame(0, index=countries, columns=columns_jury_final)\n",
    "\n",
    "for voting_coun in countries:\n",
    "    votes_jury_ranking.loc[:, f'{voting_coun}_jury'] = votes_jury_combined.loc[:, f'{voting_coun}_jury'].rank(ascending=False, method='min').replace(ranking, jury_points)"
   ]
  },
  {
   "cell_type": "code",
   "execution_count": 21,
   "metadata": {},
   "outputs": [],
   "source": [
    "jury_votes_total = votes_jury_ranking.sum(axis=1)"
   ]
  },
  {
   "cell_type": "code",
   "execution_count": 26,
   "metadata": {},
   "outputs": [
    {
     "data": {
      "text/html": [
       "<pre style=\"white-space:pre;overflow-x:auto;line-height:normal;font-family:Menlo,'DejaVu Sans Mono',consolas,'Courier New',monospace\">sweden            <span style=\"color: #008080; text-decoration-color: #008080; font-weight: bold\">336.0</span>\n",
       "israel            <span style=\"color: #008080; text-decoration-color: #008080; font-weight: bold\">175.0</span>\n",
       "italy             <span style=\"color: #008080; text-decoration-color: #008080; font-weight: bold\">172.0</span>\n",
       "estonia           <span style=\"color: #008080; text-decoration-color: #008080; font-weight: bold\">154.0</span>\n",
       "finland           <span style=\"color: #008080; text-decoration-color: #008080; font-weight: bold\">151.0</span>\n",
       "australia         <span style=\"color: #008080; text-decoration-color: #008080; font-weight: bold\">137.0</span>\n",
       "belgium           <span style=\"color: #008080; text-decoration-color: #008080; font-weight: bold\">136.0</span>\n",
       "austria           <span style=\"color: #008080; text-decoration-color: #008080; font-weight: bold\">111.0</span>\n",
       "czechia            <span style=\"color: #008080; text-decoration-color: #008080; font-weight: bold\">98.0</span>\n",
       "spain              <span style=\"color: #008080; text-decoration-color: #008080; font-weight: bold\">97.0</span>\n",
       "lithuania          <span style=\"color: #008080; text-decoration-color: #008080; font-weight: bold\">85.0</span>\n",
       "cyprus             <span style=\"color: #008080; text-decoration-color: #008080; font-weight: bold\">75.0</span>\n",
       "armenia            <span style=\"color: #008080; text-decoration-color: #008080; font-weight: bold\">69.0</span>\n",
       "switzerland        <span style=\"color: #008080; text-decoration-color: #008080; font-weight: bold\">61.0</span>\n",
       "norway             <span style=\"color: #008080; text-decoration-color: #008080; font-weight: bold\">59.0</span>\n",
       "ukraine            <span style=\"color: #008080; text-decoration-color: #008080; font-weight: bold\">56.0</span>\n",
       "france             <span style=\"color: #008080; text-decoration-color: #008080; font-weight: bold\">54.0</span>\n",
       "portugal           <span style=\"color: #008080; text-decoration-color: #008080; font-weight: bold\">40.0</span>\n",
       "slovenia           <span style=\"color: #008080; text-decoration-color: #008080; font-weight: bold\">38.0</span>\n",
       "moldova            <span style=\"color: #008080; text-decoration-color: #008080; font-weight: bold\">23.0</span>\n",
       "serbia             <span style=\"color: #008080; text-decoration-color: #008080; font-weight: bold\">22.0</span>\n",
       "united-kingdom     <span style=\"color: #008080; text-decoration-color: #008080; font-weight: bold\">21.0</span>\n",
       "albania            <span style=\"color: #008080; text-decoration-color: #008080; font-weight: bold\">17.0</span>\n",
       "croatia            <span style=\"color: #008080; text-decoration-color: #008080; font-weight: bold\">13.0</span>\n",
       "poland             <span style=\"color: #008080; text-decoration-color: #008080; font-weight: bold\">10.0</span>\n",
       "germany             <span style=\"color: #008080; text-decoration-color: #008080; font-weight: bold\">7.0</span>\n",
       "malta               <span style=\"color: #008080; text-decoration-color: #008080; font-weight: bold\">0.0</span>\n",
       "latvia              <span style=\"color: #008080; text-decoration-color: #008080; font-weight: bold\">0.0</span>\n",
       "netherlands         <span style=\"color: #008080; text-decoration-color: #008080; font-weight: bold\">0.0</span>\n",
       "ireland             <span style=\"color: #008080; text-decoration-color: #008080; font-weight: bold\">0.0</span>\n",
       "iceland             <span style=\"color: #008080; text-decoration-color: #008080; font-weight: bold\">0.0</span>\n",
       "romania             <span style=\"color: #008080; text-decoration-color: #008080; font-weight: bold\">0.0</span>\n",
       "san-marino          <span style=\"color: #008080; text-decoration-color: #008080; font-weight: bold\">0.0</span>\n",
       "greece              <span style=\"color: #008080; text-decoration-color: #008080; font-weight: bold\">0.0</span>\n",
       "georgia             <span style=\"color: #008080; text-decoration-color: #008080; font-weight: bold\">0.0</span>\n",
       "denmark             <span style=\"color: #008080; text-decoration-color: #008080; font-weight: bold\">0.0</span>\n",
       "azerbaijan          <span style=\"color: #008080; text-decoration-color: #008080; font-weight: bold\">0.0</span>\n",
       "dtype: float64\n",
       "</pre>\n"
      ],
      "text/plain": [
       "sweden            \u001b[1;36m336.0\u001b[0m\n",
       "israel            \u001b[1;36m175.0\u001b[0m\n",
       "italy             \u001b[1;36m172.0\u001b[0m\n",
       "estonia           \u001b[1;36m154.0\u001b[0m\n",
       "finland           \u001b[1;36m151.0\u001b[0m\n",
       "australia         \u001b[1;36m137.0\u001b[0m\n",
       "belgium           \u001b[1;36m136.0\u001b[0m\n",
       "austria           \u001b[1;36m111.0\u001b[0m\n",
       "czechia            \u001b[1;36m98.0\u001b[0m\n",
       "spain              \u001b[1;36m97.0\u001b[0m\n",
       "lithuania          \u001b[1;36m85.0\u001b[0m\n",
       "cyprus             \u001b[1;36m75.0\u001b[0m\n",
       "armenia            \u001b[1;36m69.0\u001b[0m\n",
       "switzerland        \u001b[1;36m61.0\u001b[0m\n",
       "norway             \u001b[1;36m59.0\u001b[0m\n",
       "ukraine            \u001b[1;36m56.0\u001b[0m\n",
       "france             \u001b[1;36m54.0\u001b[0m\n",
       "portugal           \u001b[1;36m40.0\u001b[0m\n",
       "slovenia           \u001b[1;36m38.0\u001b[0m\n",
       "moldova            \u001b[1;36m23.0\u001b[0m\n",
       "serbia             \u001b[1;36m22.0\u001b[0m\n",
       "united-kingdom     \u001b[1;36m21.0\u001b[0m\n",
       "albania            \u001b[1;36m17.0\u001b[0m\n",
       "croatia            \u001b[1;36m13.0\u001b[0m\n",
       "poland             \u001b[1;36m10.0\u001b[0m\n",
       "germany             \u001b[1;36m7.0\u001b[0m\n",
       "malta               \u001b[1;36m0.0\u001b[0m\n",
       "latvia              \u001b[1;36m0.0\u001b[0m\n",
       "netherlands         \u001b[1;36m0.0\u001b[0m\n",
       "ireland             \u001b[1;36m0.0\u001b[0m\n",
       "iceland             \u001b[1;36m0.0\u001b[0m\n",
       "romania             \u001b[1;36m0.0\u001b[0m\n",
       "san-marino          \u001b[1;36m0.0\u001b[0m\n",
       "greece              \u001b[1;36m0.0\u001b[0m\n",
       "georgia             \u001b[1;36m0.0\u001b[0m\n",
       "denmark             \u001b[1;36m0.0\u001b[0m\n",
       "azerbaijan          \u001b[1;36m0.0\u001b[0m\n",
       "dtype: float64\n"
      ]
     },
     "metadata": {},
     "output_type": "display_data"
    }
   ],
   "source": [
    "pretty.pprint(jury_votes_total.sort_values(ascending=False))"
   ]
  }
 ],
 "metadata": {
  "kernelspec": {
   "display_name": "tests-iEd5lnFy",
   "language": "python",
   "name": "python3"
  },
  "language_info": {
   "codemirror_mode": {
    "name": "ipython",
    "version": 3
   },
   "file_extension": ".py",
   "mimetype": "text/x-python",
   "name": "python",
   "nbconvert_exporter": "python",
   "pygments_lexer": "ipython3",
   "version": "3.10.1"
  },
  "orig_nbformat": 4,
  "vscode": {
   "interpreter": {
    "hash": "9c2396d4417124c66d7b3d95b2251f4e4fa5f78746df116498fcb678d6569bf4"
   }
  }
 },
 "nbformat": 4,
 "nbformat_minor": 2
}
